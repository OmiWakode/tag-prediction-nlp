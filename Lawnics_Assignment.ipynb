{
  "nbformat": 4,
  "nbformat_minor": 0,
  "metadata": {
    "colab": {
      "name": "Lawnics_Assignment.ipynb",
      "provenance": [],
      "collapsed_sections": [],
      "toc_visible": true,
      "mount_file_id": "1AsIFzejBAxXBW6o59Qm3qsRixGDqMcAb",
      "authorship_tag": "ABX9TyM+uNai5oukxqz4fpNG393Y",
      "include_colab_link": true
    },
    "kernelspec": {
      "display_name": "Python 3",
      "name": "python3"
    },
    "language_info": {
      "name": "python"
    }
  },
  "cells": [
    {
      "cell_type": "markdown",
      "metadata": {
        "id": "view-in-github",
        "colab_type": "text"
      },
      "source": [
        "<a href=\"https://colab.research.google.com/github/OmiWakode/tag-prediction-nlp/blob/main/Lawnics_Assignment.ipynb\" target=\"_parent\"><img src=\"https://colab.research.google.com/assets/colab-badge.svg\" alt=\"Open In Colab\"/></a>"
      ]
    },
    {
      "cell_type": "markdown",
      "metadata": {
        "id": "N2s3_RjbcfWB"
      },
      "source": [
        "# ⚖ Idenitifying the tags for a legal text document. \n",
        "## 1. Problem defination\n",
        "Create a solution that automatically generate tags for the Test_docs legal text document. \n",
        "## 2. Data\n",
        "The train data contains a total of 80 different samples which are catagorised into 1322 unique tags. The test data has 101 samples to be catagorised.\n",
        "## 3. Evaluation\n",
        "  1. Precision\n",
        "  2. Recall\n",
        "  3. F1 score\n",
        "\n",
        "## 4. Features\n",
        "Some features of the data.\n",
        "1. There are 1322 unique labels (tags)\n",
        "2. There are total of 80 sets in training data\n",
        "3. This is a multilabel classification\n",
        " \n"
      ]
    },
    {
      "cell_type": "markdown",
      "metadata": {
        "id": "uEA8y39JdbWr"
      },
      "source": [
        "## Getting Worspace ready"
      ]
    },
    {
      "cell_type": "markdown",
      "metadata": {
        "id": "JbGkc4ykhn0z"
      },
      "source": [
        "## Getting Data Ready\n"
      ]
    },
    {
      "cell_type": "markdown",
      "metadata": {
        "id": "ygAeRpfJdx0v"
      },
      "source": [
        "### Precprocessing the tags"
      ]
    },
    {
      "cell_type": "code",
      "metadata": {
        "colab": {
          "base_uri": "https://localhost:8080/"
        },
        "id": "6bFe2gKKh1Wl",
        "outputId": "c945088d-b21a-44b8-8af5-d18188b951ea"
      },
      "source": [
        "#importing the data\n",
        "import pandas as pd\n",
        "import numpy as np\n",
        "import os\n",
        "import matplotlib.pyplot as plt\n",
        "\n",
        "\n",
        "tag_list = []\n",
        "file_list = []\n",
        "file_dir = \"/content/drive/MyDrive/Lawnics_Assignment/Train_tags\"\n",
        "\n",
        "for tags in os.listdir(file_dir):\n",
        "  file_list.append(tags)\n",
        "\n",
        "def sorting(directory):\n",
        "  if str(directory[5]) == '.':\n",
        "    num = int(str(directory[4]))\n",
        "    return num\n",
        "\n",
        "  else:\n",
        "    num1 = int(str(directory[4]))\n",
        "    num2 = int(str(directory[5]))\n",
        "    return num1*100 + num2\n",
        "\n",
        "\n",
        "\n",
        "file_list = sorted(file_list, key=sorting )\n",
        "\n",
        "for txt in file_list:  \n",
        "  file = open(file_dir + '/' + txt, 'r')\n",
        "  content = file.read()\n",
        "  content = content.split(',')\n",
        "  tag_list.append(content)\n",
        "len(tag_list)\n",
        "  "
      ],
      "execution_count": 2,
      "outputs": [
        {
          "output_type": "execute_result",
          "data": {
            "text/plain": [
              "80"
            ]
          },
          "metadata": {
            "tags": []
          },
          "execution_count": 2
        }
      ]
    },
    {
      "cell_type": "code",
      "metadata": {
        "colab": {
          "base_uri": "https://localhost:8080/"
        },
        "id": "xEiJjpOmiRkt",
        "outputId": "fd06fbc7-ecb1-4805-aeb4-0f64602fa836"
      },
      "source": [
        "#converting the tags into numpy array\n",
        "tag_list = np.array(tag_list)\n",
        "tag_list[:10]"
      ],
      "execution_count": 3,
      "outputs": [
        {
          "output_type": "stream",
          "text": [
            "/usr/local/lib/python3.7/dist-packages/ipykernel_launcher.py:2: VisibleDeprecationWarning: Creating an ndarray from ragged nested sequences (which is a list-or-tuple of lists-or-tuples-or ndarrays with different lengths or shapes) is deprecated. If you meant to do this, you must specify 'dtype=object' when creating the ndarray\n",
            "  \n"
          ],
          "name": "stderr"
        },
        {
          "output_type": "execute_result",
          "data": {
            "text/plain": [
              "array([list(['Cause of Action']),\n",
              "       list(['Abetment', ' Abetment of Suicide', ' Absconding', ' Accidental Death', ' Apprehension', ' Documentary Evidence', ' Dowry Death', ' Interested Witness', ' Post']),\n",
              "       list(['Decision', ' Exemption', ' Exemption Notification', ' Import', ' Importer', ' India', ' Larger Bench', ' Notification', ' Order', ' Order of Reference', ' Reference', ' Statement']),\n",
              "       list(['Child Labour', ' Compensation', ' Fundamental Right', ' Liberty', ' Mandamus', ' Sexual Harassment', ' Union Territories', ' Writ of Mandamus']),\n",
              "       list(['Account', ' Auditor', ' Authentication', ' Commercial', ' Consent', ' Direction', ' Dispute', ' Due', ' Generating Station', ' National Commission', ' Rate', ' Tariff']),\n",
              "       list(['Admission', ' Adoption', ' Adoptive Parent', ' Age', ' Compromise', ' Custody', ' Declaration', ' Family', ' Father', \" Father's Right\", ' Female', ' Given in Adoption', ' Guardianship', ' Hindu', ' Illegitimate Child', ' Indifference', ' Maintenance', ' Marriage', ' Mental Incapacity', ' Minority', ' Mohammedan', ' Natural Guardian', ' Natural Parent', ' Neglect', ' Onerous', ' Putative Father', ' Residence', ' Succession']),\n",
              "       list(['Coastal Zone', ' Policy Document']),\n",
              "       list(['Accessories', ' Adjudicating Authority', ' Allegation of Suppression', ' Ambiguity', ' Apparatus', ' Appeal', ' Appellate Tribunal', ' Application', ' Arrest', ' Assessee', ' Bench', ' Benefit', ' Bona Fide', ' Buyer', ' Cable', ' CEGAT', ' Cement', ' Charge', ' Claim', ' Classification', ' Clearance', ' Collector', ' Commissioner of Central Excise', ' Component', ' Concession', ' Consideration', ' Construction', ' Cost', ' Damage', ' Date', ' Declaration', ' Demand', ' Duty', ' Equipment', ' Evidence', ' Excisable Goods', ' Excise Duty', ' Exemption', ' Exemption from Duty', ' Exemption Granted', ' Exemption Notification', ' Extended Period', ' Extraneous Grounds', ' Goods', ' Goods Manufactured', ' Heading', ' Hearing', ' Identical', ' Import', ' Import duty', ' Imported Goods', ' India', ' Information', ' Interest', ' Invoice', ' Judicial Member', ' Lead', ' Liability', ' Liberal Construction', ' Limitation', ' Manufacture', ' Material', ' NIL Rate', ' NIL Rate of Duty', ' Notice', ' Notification', ' Order', ' Oxygen', ' Packing', ' Payment', ' Payment of Excise Duty', ' Penalty', ' Person', ' Personal Hearing', ' Protest', ' Purchaser', ' Rate of duty', ' Reference', ' Remand', ' Service', ' Statute', ' Suppression', ' Suppression of fact', ' Tax', ' Time Barred', ' Tribunal', ' Upper']),\n",
              "       list(['Account', ' Accounts', ' Act', ' Adjustment', ' Agent', ' Agreement', ' Allotted', ' Anatomy', ' Appeal', ' Appropriate', ' Approval', ' Assessee', ' Assessing Officer', ' Assessment', ' Assurance', ' Attached', ' Auction', ' Authority', ' Bench', ' Binding Precedent', ' Book', ' Books', ' Books of Account', ' Brand', ' Brand Name', ' Calls', ' Case', ' Casual Trader', ' Cement', ' Charge', ' Charging', ' Charging Section', ' Claim', ' Commodity', ' Company', ' Concern', ' Consideration', ' Construction', ' Consume', ' Consumer', ' Contract', ' Copy', ' Cost', ' Customer', ' Damage', ' Damages', ' Dealer', ' Dealing', ' Decision', ' Declaration', ' Depot', ' Despatch', ' Direction', ' Dispute', ' Due', ' Due To Negligence', ' Effects', ' Employed', ' Exemption', ' Express', ' Factory', ' Factual Matrix', ' Fee', ' Finding', ' Firm', ' First Sale', ' First Schedule', ' Form', ' Good', ' Goods', ' Goods Manufactured', ' Ground', ' Holder', ' Information', ' Inspection', ' Intention', ' Inter']),\n",
              "       list(['Ad'])], dtype=object)"
            ]
          },
          "metadata": {
            "tags": []
          },
          "execution_count": 3
        }
      ]
    },
    {
      "cell_type": "code",
      "metadata": {
        "colab": {
          "base_uri": "https://localhost:8080/"
        },
        "id": "oMm-8Km4DPQS",
        "outputId": "09cbe897-2478-4433-afce-bbab158d7b21"
      },
      "source": [
        "#getting all the tags present\n",
        "all_tags = []\n",
        "for elem in tag_list:\n",
        "  for tag in elem:\n",
        "    all_tags.append(tag)\n",
        "len(all_tags)"
      ],
      "execution_count": 4,
      "outputs": [
        {
          "output_type": "execute_result",
          "data": {
            "text/plain": [
              "2225"
            ]
          },
          "metadata": {
            "tags": []
          },
          "execution_count": 4
        }
      ]
    },
    {
      "cell_type": "code",
      "metadata": {
        "colab": {
          "base_uri": "https://localhost:8080/"
        },
        "id": "aXgB1B_elSS3",
        "outputId": "7230ac26-1902-4167-f7d5-d1c238955e74"
      },
      "source": [
        "#finding all the unique tags\n",
        "unique_tags, counts = np.unique(all_tags, return_counts=True)\n",
        "len(unique_tags)\n"
      ],
      "execution_count": 5,
      "outputs": [
        {
          "output_type": "execute_result",
          "data": {
            "text/plain": [
              "1322"
            ]
          },
          "metadata": {
            "tags": []
          },
          "execution_count": 5
        }
      ]
    },
    {
      "cell_type": "markdown",
      "metadata": {
        "id": "AnDu86H-JquM"
      },
      "source": [
        "### Visualising the labels"
      ]
    },
    {
      "cell_type": "code",
      "metadata": {
        "colab": {
          "base_uri": "https://localhost:8080/",
          "height": 662
        },
        "id": "FzR_NIxz65WE",
        "outputId": "b4332745-1e9a-402e-e7be-ae4ebe7960d4"
      },
      "source": [
        "#Visialising the tags\n",
        "value_tags = pd.Series(all_tags)\n",
        "value_tags.value_counts()[:50].plot( figsize=(20,10), kind='bar',color =\"#75a1c0\",)"
      ],
      "execution_count": 7,
      "outputs": [
        {
          "output_type": "execute_result",
          "data": {
            "text/plain": [
              "<matplotlib.axes._subplots.AxesSubplot at 0x7f86e5b5bf10>"
            ]
          },
          "metadata": {
            "tags": []
          },
          "execution_count": 7
        },
        {
          "output_type": "display_data",
          "data": {
            "image/png": "[encoded data removed]",
            "text/plain": [
              "<Figure size 1440x720 with 1 Axes>"
            ]
          },
          "metadata": {
            "tags": [],
            "needs_background": "light"
          }
        }
      ]
    },
    {
      "cell_type": "markdown",
      "metadata": {
        "id": "n_8kuC11xXXs"
      },
      "source": [
        "#### On an averge each tag appears ~2 times over the course of 80 samples"
      ]
    },
    {
      "cell_type": "code",
      "metadata": {
        "colab": {
          "base_uri": "https://localhost:8080/",
          "height": 0
        },
        "id": "DBlS4vJs03kv",
        "outputId": "8854933a-1952-4d60-fd2c-36be3773f619"
      },
      "source": [
        "#On an average each tag appears 1.6 times\n",
        "value_tags.value_counts().mean()"
      ],
      "execution_count": 8,
      "outputs": [
        {
          "output_type": "execute_result",
          "data": {
            "text/plain": [
              "1.6830559757942511"
            ]
          },
          "metadata": {
            "tags": []
          },
          "execution_count": 8
        }
      ]
    },
    {
      "cell_type": "markdown",
      "metadata": {
        "id": "c4ssxrP1k2r8"
      },
      "source": [
        "### Preprocessing the training data"
      ]
    },
    {
      "cell_type": "code",
      "metadata": {
        "colab": {
          "base_uri": "https://localhost:8080/"
        },
        "id": "4P9Wm27wUUDl",
        "outputId": "c048edec-b132-4a8f-caee-9d0bd61b9183"
      },
      "source": [
        "#Reading the file contents of Training Data\n",
        "train_dir = '/content/drive/MyDrive/Lawnics_Assignment/Train_docs'\n",
        "\n",
        "file_list_content = []\n",
        "content_list = []\n",
        "\n",
        "for content in os.listdir(train_dir):\n",
        "  if str(content) == '.ipynb_checkpoints':\n",
        "    continue\n",
        "  file_list_content.append(content)\n",
        "\n",
        "def sorting(directory):\n",
        "  if str(directory[6]) == '_':\n",
        "    num = int(str(directory[5]))\n",
        "    return num\n",
        "\n",
        "  else:\n",
        "    num1 = int(str(directory[5]))\n",
        "    num2 = int(str(directory[6]))\n",
        "    return num1*10 + num2\n",
        " \n",
        "\n",
        "#Sort the names\n",
        "file_list_content = sorted(file_list_content, key= sorting)\n",
        "\n",
        "for txt in file_list_content:  \n",
        "  file = open(train_dir + '/' + txt, 'rb')\n",
        "  content = file.read()\n",
        "  content_list.append(content.decode('latin-1'))\n",
        "file_list_content"
      ],
      "execution_count": 6,
      "outputs": [
        {
          "output_type": "execute_result",
          "data": {
            "text/plain": [
              "['case_0_statement.txt',\n",
              " 'case_1_statement.txt',\n",
              " 'case_2_statement.txt',\n",
              " 'case_3_statement.txt',\n",
              " 'case_4_statement.txt',\n",
              " 'case_5_statement.txt',\n",
              " 'case_6_statement.txt',\n",
              " 'case_7_statement.txt',\n",
              " 'case_8_statement.txt',\n",
              " 'case_9_statement.txt',\n",
              " 'case_10_statement.txt',\n",
              " 'case_11_statement.txt',\n",
              " 'case_12_statement.txt',\n",
              " 'case_13_statement.txt',\n",
              " 'case_14_statement.txt',\n",
              " 'case_15_statement.txt',\n",
              " 'case_16_statement.txt',\n",
              " 'case_17_statement.txt',\n",
              " 'case_18_statement.txt',\n",
              " 'case_19_statement.txt',\n",
              " 'case_20_statement.txt',\n",
              " 'case_21_statement.txt',\n",
              " 'case_22_statement.txt',\n",
              " 'case_23_statement.txt',\n",
              " 'case_24_statement.txt',\n",
              " 'case_25_statement.txt',\n",
              " 'case_26_statement.txt',\n",
              " 'case_27_statement.txt',\n",
              " 'case_28_statement.txt',\n",
              " 'case_29_statement.txt',\n",
              " 'case_30_statement.txt',\n",
              " 'case_31_statement.txt',\n",
              " 'case_32_statement.txt',\n",
              " 'case_33_statement.txt',\n",
              " 'case_34_statement.txt',\n",
              " 'case_35_statement.txt',\n",
              " 'case_36_statement.txt',\n",
              " 'case_37_statement.txt',\n",
              " 'case_38_statement.txt',\n",
              " 'case_39_statement.txt',\n",
              " 'case_40_statement.txt',\n",
              " 'case_41_statement.txt',\n",
              " 'case_42_statement.txt',\n",
              " 'case_43_statement.txt',\n",
              " 'case_44_statement.txt',\n",
              " 'case_45_statement.txt',\n",
              " 'case_46_statement.txt',\n",
              " 'case_47_statement.txt',\n",
              " 'case_48_statement.txt',\n",
              " 'case_49_statement.txt',\n",
              " 'case_50_statement.txt',\n",
              " 'case_51_statement.txt',\n",
              " 'case_52_statement.txt',\n",
              " 'case_53_statement.txt',\n",
              " 'case_54_statement.txt',\n",
              " 'case_55_statement.txt',\n",
              " 'case_56_statement.txt',\n",
              " 'case_57_statement.txt',\n",
              " 'case_58_statement.txt',\n",
              " 'case_59_statement.txt',\n",
              " 'case_60_statement.txt',\n",
              " 'case_61_statement.txt',\n",
              " 'case_62_statement.txt',\n",
              " 'case_63_statement.txt',\n",
              " 'case_64_statement.txt',\n",
              " 'case_65_statement.txt',\n",
              " 'case_66_statement.txt',\n",
              " 'case_67_statement.txt',\n",
              " 'case_68_statement.txt',\n",
              " 'case_69_statement.txt',\n",
              " 'case_70_statement.txt',\n",
              " 'case_71_statement.txt',\n",
              " 'case_72_statement.txt',\n",
              " 'case_73_statement.txt',\n",
              " 'case_74_statement.txt',\n",
              " 'case_75_statement.txt',\n",
              " 'case_76_statement.txt',\n",
              " 'case_77_statement.txt',\n",
              " 'case_78_statement.txt',\n",
              " 'case_79_statement.txt']"
            ]
          },
          "metadata": {
            "tags": []
          },
          "execution_count": 6
        }
      ]
    },
    {
      "cell_type": "code",
      "metadata": {
        "colab": {
          "base_uri": "https://localhost:8080/",
          "height": 406
        },
        "id": "-eujT27DYopc",
        "outputId": "693a9207-7b76-4194-a817-b477ae9f58aa"
      },
      "source": [
        "#Creating the data set\n",
        "trainData = {\"content\": content_list, \"labels\": tag_list}\n",
        "train_data = pd.DataFrame(trainData, columns=[\"content\", \"labels\"])\n",
        "train_data"
      ],
      "execution_count": 9,
      "outputs": [
        {
          "output_type": "execute_result",
          "data": {
            "text/html": [
              "<div>\n",
              "<style scoped>\n",
              "    .dataframe tbody tr th:only-of-type {\n",
              "        vertical-align: middle;\n",
              "    }\n",
              "\n",
              "    .dataframe tbody tr th {\n",
              "        vertical-align: top;\n",
              "    }\n",
              "\n",
              "    .dataframe thead th {\n",
              "        text-align: right;\n",
              "    }\n",
              "</style>\n",
              "<table border=\"1\" class=\"dataframe\">\n",
              "  <thead>\n",
              "    <tr style=\"text-align: right;\">\n",
              "      <th></th>\n",
              "      <th>content</th>\n",
              "      <th>labels</th>\n",
              "    </tr>\n",
              "  </thead>\n",
              "  <tbody>\n",
              "    <tr>\n",
              "      <th>0</th>\n",
              "      <td>\\r\\n\\r\\nKurian Joseph, J.\\r\\n\\r\\n1. Leave gran...</td>\n",
              "      <td>[Cause of Action]</td>\n",
              "    </tr>\n",
              "    <tr>\n",
              "      <th>1</th>\n",
              "      <td>\\r\\n\\r\\nAbhay Manohar Sapre, J.\\r\\n\\r\\n1. Dela...</td>\n",
              "      <td>[Abetment,  Abetment of Suicide,  Absconding, ...</td>\n",
              "    </tr>\n",
              "    <tr>\n",
              "      <th>2</th>\n",
              "      <td>\\r\\n\\r\\nPinaki Chandra Ghose, J.\\r\\n\\r\\n1. Thi...</td>\n",
              "      <td>[Decision,  Exemption,  Exemption Notification...</td>\n",
              "    </tr>\n",
              "    <tr>\n",
              "      <th>3</th>\n",
              "      <td>\\r\\n\\r\\n1. This matter is placed before us as ...</td>\n",
              "      <td>[Child Labour,  Compensation,  Fundamental Rig...</td>\n",
              "    </tr>\n",
              "    <tr>\n",
              "      <th>4</th>\n",
              "      <td>\\r\\n\\r\\n1. We have heard learned Counsel for t...</td>\n",
              "      <td>[Account,  Auditor,  Authentication,  Commerci...</td>\n",
              "    </tr>\n",
              "    <tr>\n",
              "      <th>...</th>\n",
              "      <td>...</td>\n",
              "      <td>...</td>\n",
              "    </tr>\n",
              "    <tr>\n",
              "      <th>75</th>\n",
              "      <td>\\r\\n\\r\\n1. This is tenant's appeal by special ...</td>\n",
              "      <td>[Administration of Justice,  Admiralty Jurisdi...</td>\n",
              "    </tr>\n",
              "    <tr>\n",
              "      <th>76</th>\n",
              "      <td>\\r\\n\\r\\nS.B. Sinha, J.\\r\\n\\r\\n1. The primal qu...</td>\n",
              "      <td>[Absorption,  Ad]</td>\n",
              "    </tr>\n",
              "    <tr>\n",
              "      <th>77</th>\n",
              "      <td>\\r\\n\\r\\nR. Banumathi, J.\\r\\n\\r\\n1. Leave grant...</td>\n",
              "      <td>[Appreciation of Evidence,  Assault,  Autopsy,...</td>\n",
              "    </tr>\n",
              "    <tr>\n",
              "      <th>78</th>\n",
              "      <td>\\r\\n\\r\\nDipak Misra, J.\\r\\n\\r\\n1. Despite comp...</td>\n",
              "      <td>[Amicus Curiae,  Circumstantial Evidence,  Eye...</td>\n",
              "    </tr>\n",
              "    <tr>\n",
              "      <th>79</th>\n",
              "      <td>\\r\\n\\r\\nH.K. Sema, J.\\r\\n\\r\\n1. Four appellant...</td>\n",
              "      <td>[Absence,  Access,  Accident,  Account,  Acqui...</td>\n",
              "    </tr>\n",
              "  </tbody>\n",
              "</table>\n",
              "<p>80 rows × 2 columns</p>\n",
              "</div>"
            ],
            "text/plain": [
              "                                              content                                             labels\n",
              "0   \\r\\n\\r\\nKurian Joseph, J.\\r\\n\\r\\n1. Leave gran...                                  [Cause of Action]\n",
              "1   \\r\\n\\r\\nAbhay Manohar Sapre, J.\\r\\n\\r\\n1. Dela...  [Abetment,  Abetment of Suicide,  Absconding, ...\n",
              "2   \\r\\n\\r\\nPinaki Chandra Ghose, J.\\r\\n\\r\\n1. Thi...  [Decision,  Exemption,  Exemption Notification...\n",
              "3   \\r\\n\\r\\n1. This matter is placed before us as ...  [Child Labour,  Compensation,  Fundamental Rig...\n",
              "4   \\r\\n\\r\\n1. We have heard learned Counsel for t...  [Account,  Auditor,  Authentication,  Commerci...\n",
              "..                                                ...                                                ...\n",
              "75  \\r\\n\\r\\n1. This is tenant's appeal by special ...  [Administration of Justice,  Admiralty Jurisdi...\n",
              "76  \\r\\n\\r\\nS.B. Sinha, J.\\r\\n\\r\\n1. The primal qu...                                  [Absorption,  Ad]\n",
              "77  \\r\\n\\r\\nR. Banumathi, J.\\r\\n\\r\\n1. Leave grant...  [Appreciation of Evidence,  Assault,  Autopsy,...\n",
              "78  \\r\\n\\r\\nDipak Misra, J.\\r\\n\\r\\n1. Despite comp...  [Amicus Curiae,  Circumstantial Evidence,  Eye...\n",
              "79  \\r\\n\\r\\nH.K. Sema, J.\\r\\n\\r\\n1. Four appellant...  [Absence,  Access,  Accident,  Account,  Acqui...\n",
              "\n",
              "[80 rows x 2 columns]"
            ]
          },
          "metadata": {
            "tags": []
          },
          "execution_count": 9
        }
      ]
    },
    {
      "cell_type": "markdown",
      "metadata": {
        "id": "c-qy-SB_73UT"
      },
      "source": [
        "### Processing Test data"
      ]
    },
    {
      "cell_type": "code",
      "metadata": {
        "colab": {
          "base_uri": "https://localhost:8080/",
          "height": 160
        },
        "id": "w8ixSf9Z8CVY",
        "outputId": "31e2a333-5d45-43ba-8373-5884dc93d646"
      },
      "source": [
        "#Reading the file contents of Training Data\n",
        "test_dir = '/content/drive/MyDrive/Lawnics_Assignment/Test_docs'\n",
        "\n",
        "file_test_content = []\n",
        "test_content_list = []\n",
        "\n",
        "for content in os.listdir(test_dir):\n",
        "  if str(content) == '.ipynb_checkpoints':\n",
        "    continue\n",
        "  file_test_content.append(content)\n",
        "\n",
        "def sorting_test(directory):\n",
        "  \n",
        "  \n",
        "    num1 = int(str(directory[5]))\n",
        "    num2 = int(str(directory[6]))\n",
        "    num3 = int(str(directory[7]))\n",
        "\n",
        "    return num1*100 + num2*10 + num3\n",
        "\n",
        "\n",
        "\n",
        "\n",
        "#Sort the names\n",
        "file_test_content = sorted(file_test_content, key= sorting_test)\n",
        "\n",
        "for txt in file_test_content:  \n",
        "  file = open(test_dir + '/' + txt, 'rb')\n",
        "  content = file.read()\n",
        "  test_content_list.append(content.decode('latin-1'))\n",
        "test_content_list[0]"
      ],
      "execution_count": 8,
      "outputs": [
        {
          "output_type": "execute_result",
          "data": {
            "application/vnd.google.colaboratory.intrinsic+json": {
              "type": "string"
            },
            "text/plain": [
              "'\\r\\n\\r\\nP. Venkatarama Reddi, J.\\r\\n\\r\\n1. The opinion recorded by the Kerala High Court in ITR No. 16 of 1997 has given rise to this appeal filed by the Chief Commissioner of Income-tax. The dispute relates to the assessment year 1985-86. At the instance of the Revenue the following question was referred under Section 256(1) of the Income tax Act for the opinion of the High Court:\\r\\n\\r\\n\"Whether on the facts and in the circumstances of the case, the Tribunal is right in law and fact in holding that Rs. 3,02,758/- cannot be brought to tax and in doleting the addition of Rs. 3,02,758/- sustained by CIT (Appeals)?\"\\r\\n\\r\\nThe High Court accepted the view of the Tribunal which partly allowed the appeal of the assessee and answered the question in favour of the assessee.\\r\\n\\r\\n2. The facts in brief are: The respondent-assessee is engaged in the business of tea, spices etc. During the assessment year 1985-86 (previous year ending on 31.3.1985) the assessee \\'wrote-back\\' in its accounts a sum of Rs. 14,65,997/- representing the provision made during earlier years (1978-1981) towards its purchase tax liability. It appears that the liability to pay purchase tax on certain goods was in dispute and, therefore, the provision was made. Further, it appears that the assessee, in support of its claim for purchase tax relief, inter alia, relied on the decision of the Kerala High Court in Neroth Oil Mills\\' case. The SLP filed by the Kerala State against the decision of the High Court in the said case was rejected by this Court in November, 1984. Apparently, for that reason, the assessee thought it fit to reverse the provision made earlier towards purchase tax and therefore made the entries in the books of account during the year ending on 31.3.1985. The assessing officer added the sum of Rs. 14,65,997/- which represents the provision made towards purchase tax during the assessment years 1978-79, 1979-80 and 1980-81, treating the same as the income of the previous year ending on 31.3.1985. In the first appeal, the CIT (Appeals) held that there was no justification to include the sums which were already included in the course of reassessments made for the years 1979-80 and 1980-81. However, he upheld the addition of Rs. 3,02,758 pertaining to the assessment year 1978-79. The Appellate Commissioner held that the liability of the assessee finally ceased during the year 1985-86 in view of the rejection of SLP in Neroth Oil Mills\\' case in November 1984. Certain observations were also made as regards the inflexibility of the sums pertaining to assessment years 1980-81 and 1981-82 in respect of which reassessments were made. However, in this appeal, we need not go into the details thereof.\\r\\n\\r\\n3. On further appeal by the assessee, the Tribunal set aside the addition of Rs. 3,02,758/- which was upheld by the Appellate Commissioner. The Tribunal did not agree with the view taken by the first Appellate Authority that there was no cessation of liability within the meaning of Section 41(1) of the Income-tax Act during the relevant year on account of dismissal of SLP in another case. The Tribunal observed that for claiming exemption from purchase tax on the ground that transaction was in the course of export, two conditions were required to be fulfilled: (1) things purchased and exported are one and the same and (2) the purchases were against firm orders for export. Neroth Oil Mills\\'case was concerned only with the first aspect and not the second aspect. Therefore, the Tribunal observed that the judgment in Neroth Oil Mills\\' case, even if it had attained finality does not put an end to the disputed issue involved in the respondent-assessee\\'s case. The Tribunal further noticed that as late as 1993, the sales tax department was pursuing the issue relating to purchase tax liability of the assessee from the assessment year 1974-75 onwards and the cases were still pending decision before the Sales Tax Authorities. The Tribunal pointed out that he unilateral action on the part of the assessee in writing-back the amounts could not have the effect of extinguishing the statutory liability. On reference, the High Court approved the view taken by the Tribunal and held that Section 41(1) cannot be invoked in the instant case. Hence, this appeal by revenue by Special leave.\\r\\n\\r\\n4. It may be noted that the provision was made in the books of account towards purchase tax which was under dispute and the benefit of deduction from business income was availed of in the past years in relation thereto. The same was sought to be reversed by the assessee during the year ending on 31.3.1985 for whatever reason it be. The question is whether the circumstances contemplated by Section 41(1) exists so as to enable the Revenue to take back what has been allowed earlier as business expenditure and to include such amount in the income of the relevant assessment year i.e. 1985-86. In order to apply Section 41(1) in the context of the facts obtaining in the present case, the following points are to be kept in view : (1) In the course of assessment for an earlier year, allowance or deduction has been made in respect of trading liability incurred by the assessee; (2) Subsequently, a benefit is obtained in respect of such trading liability by way of remission or cessation thereof during the year in which such event occurred; (3) in that situation the value of benefit accruing to the assessee is deemed to be the profit and gains of business which otherwise would not be his income; and (4) such value of benefit is made chargeable to income tax as the income of the previous year wherein such benefit was obtained. The High Court, agreeing with the Tribunal, rightly held that the resort to Section 41(1) could arise only if the liability of the assessee can be said to have ceased finally without the possibility of reviving it. On the facts found by the Tribunal, the Tribunal as well as the High Court were well justified in coming to the conclusion that the purchase tax liability of the assessee had not ceased finally during the year in question. Despite the finality attained by the judgment in Neroth Oil Mills\\'case, the other issues having bearing on the exigibility of purchase tax still remained and the dispute between the assessee and the sales-tax department was still going on. There is no material on record to rebut these factual observations made by the Tribunal. Nor can it be said that the reasons given by the Tribunal are irrelevant.\\r\\n\\r\\n5. The learned senior counsel appearing for the Income Tax Department has contended that the assessee itself took steps to write-off the liability on account of purchase tax by making necessary adjustments in the books, which itself is indicative of the fact that the liability ceased for all practical purposes and therefore, the addition of amount of Rs. 3,20,758/- deeming the same as income of the year 1985-86 under Section 41(1) is well justified of the Act. But, what the assessee has done is not conclusive. As observed by the Tribunal, an unilateral action on the part of the assessee by way of writing-off the liability in its accounts does not necessarily mean that the liability ceased in the eye of law. In fact, this is the view taken by this Court in CIT v. Suguli Sugar Works(P) Ltd. MANU/SC/0077/1999MANU/SC/0077/1999 : [1999]236ITR518(SC) . We, therefore, find no substance in the contention advanced on behalf of the appellant. Incidentally, we may mention that the controversy relates to the period anterior to the introduction of Explanation 1 to Section 41(1).\\r\\n\\r\\n6. The decision of this Court in Commissioner of Income Tax v. T.V. Sundaram Iyengar and Sons Ltd. MANU/SC/1251/1996MANU/SC/1251/1996 : [1996]222ITR344(SC) has been cited by the learned counsel for the appellant. We find no relevance of this decision to the determination of the question involved in the present case. The factual matrix and the provision of law considered therein is entirely different.\\r\\n\\r\\n7. For the reasons aforesaid, we affirm the opinion expressed by the High Court and dismiss the appeal filed by the Revenue. There shall be no order as to costs.\\r\\n\\r\\n'"
            ]
          },
          "metadata": {
            "tags": []
          },
          "execution_count": 8
        }
      ]
    },
    {
      "cell_type": "code",
      "metadata": {
        "colab": {
          "base_uri": "https://localhost:8080/",
          "height": 197
        },
        "id": "G5UASGO48jHb",
        "outputId": "2bfb6e7a-af8c-4416-f5ba-fa8f95531d26"
      },
      "source": [
        "#Creating the data set\n",
        "testData = {\"content\": test_content_list}\n",
        "test_data = pd.DataFrame(testData, columns=[\"content\"])\n",
        "test_data.head()"
      ],
      "execution_count": 10,
      "outputs": [
        {
          "output_type": "execute_result",
          "data": {
            "text/html": [
              "<div>\n",
              "<style scoped>\n",
              "    .dataframe tbody tr th:only-of-type {\n",
              "        vertical-align: middle;\n",
              "    }\n",
              "\n",
              "    .dataframe tbody tr th {\n",
              "        vertical-align: top;\n",
              "    }\n",
              "\n",
              "    .dataframe thead th {\n",
              "        text-align: right;\n",
              "    }\n",
              "</style>\n",
              "<table border=\"1\" class=\"dataframe\">\n",
              "  <thead>\n",
              "    <tr style=\"text-align: right;\">\n",
              "      <th></th>\n",
              "      <th>content</th>\n",
              "    </tr>\n",
              "  </thead>\n",
              "  <tbody>\n",
              "    <tr>\n",
              "      <th>0</th>\n",
              "      <td>\\r\\n\\r\\nP. Venkatarama Reddi, J.\\r\\n\\r\\n1. The...</td>\n",
              "    </tr>\n",
              "    <tr>\n",
              "      <th>1</th>\n",
              "      <td>\\r\\n\\r\\nG.B. Pattanaik, J.\\r\\n\\r\\n1. This batc...</td>\n",
              "    </tr>\n",
              "    <tr>\n",
              "      <th>2</th>\n",
              "      <td>\\r\\n\\r\\n1. After hearing the Learned Counsel f...</td>\n",
              "    </tr>\n",
              "    <tr>\n",
              "      <th>3</th>\n",
              "      <td>\\r\\n\\r\\n1. This appeal is directed against the...</td>\n",
              "    </tr>\n",
              "    <tr>\n",
              "      <th>4</th>\n",
              "      <td>\\r\\n\\r\\n1. An issue raised by the appellants w...</td>\n",
              "    </tr>\n",
              "  </tbody>\n",
              "</table>\n",
              "</div>"
            ],
            "text/plain": [
              "                                             content\n",
              "0  \\r\\n\\r\\nP. Venkatarama Reddi, J.\\r\\n\\r\\n1. The...\n",
              "1  \\r\\n\\r\\nG.B. Pattanaik, J.\\r\\n\\r\\n1. This batc...\n",
              "2  \\r\\n\\r\\n1. After hearing the Learned Counsel f...\n",
              "3  \\r\\n\\r\\n1. This appeal is directed against the...\n",
              "4  \\r\\n\\r\\n1. An issue raised by the appellants w..."
            ]
          },
          "metadata": {
            "tags": []
          },
          "execution_count": 10
        }
      ]
    },
    {
      "cell_type": "markdown",
      "metadata": {
        "id": "ltogw0RFmypl"
      },
      "source": [
        "### Preprocessing Text Data\n",
        "pre-processing steps are common for most of the NLP tasks (feature extraction for Machine learning models):"
      ]
    },
    {
      "cell_type": "code",
      "metadata": {
        "colab": {
          "base_uri": "https://localhost:8080/"
        },
        "id": "uaCgWZTjtPL0",
        "outputId": "a210c5c2-b059-41b0-c4a1-2227f7be8ec4"
      },
      "source": [
        "import nltk\n",
        "nltk.download(\"popular\")"
      ],
      "execution_count": 11,
      "outputs": [
        {
          "output_type": "stream",
          "text": [
            "[nltk_data] Downloading collection 'popular'\n",
            "[nltk_data]    | \n",
            "[nltk_data]    | Downloading package cmudict to /root/nltk_data...\n",
            "[nltk_data]    |   Unzipping corpora/cmudict.zip.\n",
            "[nltk_data]    | Downloading package gazetteers to /root/nltk_data...\n",
            "[nltk_data]    |   Unzipping corpora/gazetteers.zip.\n",
            "[nltk_data]    | Downloading package genesis to /root/nltk_data...\n",
            "[nltk_data]    |   Unzipping corpora/genesis.zip.\n",
            "[nltk_data]    | Downloading package gutenberg to /root/nltk_data...\n",
            "[nltk_data]    |   Unzipping corpora/gutenberg.zip.\n",
            "[nltk_data]    | Downloading package inaugural to /root/nltk_data...\n",
            "[nltk_data]    |   Unzipping corpora/inaugural.zip.\n",
            "[nltk_data]    | Downloading package movie_reviews to\n",
            "[nltk_data]    |     /root/nltk_data...\n",
            "[nltk_data]    |   Unzipping corpora/movie_reviews.zip.\n",
            "[nltk_data]    | Downloading package names to /root/nltk_data...\n",
            "[nltk_data]    |   Unzipping corpora/names.zip.\n",
            "[nltk_data]    | Downloading package shakespeare to /root/nltk_data...\n",
            "[nltk_data]    |   Unzipping corpora/shakespeare.zip.\n",
            "[nltk_data]    | Downloading package stopwords to /root/nltk_data...\n",
            "[nltk_data]    |   Unzipping corpora/stopwords.zip.\n",
            "[nltk_data]    | Downloading package treebank to /root/nltk_data...\n",
            "[nltk_data]    |   Unzipping corpora/treebank.zip.\n",
            "[nltk_data]    | Downloading package twitter_samples to\n",
            "[nltk_data]    |     /root/nltk_data...\n",
            "[nltk_data]    |   Unzipping corpora/twitter_samples.zip.\n",
            "[nltk_data]    | Downloading package omw to /root/nltk_data...\n",
            "[nltk_data]    |   Unzipping corpora/omw.zip.\n",
            "[nltk_data]    | Downloading package wordnet to /root/nltk_data...\n",
            "[nltk_data]    |   Unzipping corpora/wordnet.zip.\n",
            "[nltk_data]    | Downloading package wordnet_ic to /root/nltk_data...\n",
            "[nltk_data]    |   Unzipping corpora/wordnet_ic.zip.\n",
            "[nltk_data]    | Downloading package words to /root/nltk_data...\n",
            "[nltk_data]    |   Unzipping corpora/words.zip.\n",
            "[nltk_data]    | Downloading package maxent_ne_chunker to\n",
            "[nltk_data]    |     /root/nltk_data...\n",
            "[nltk_data]    |   Unzipping chunkers/maxent_ne_chunker.zip.\n",
            "[nltk_data]    | Downloading package punkt to /root/nltk_data...\n",
            "[nltk_data]    |   Unzipping tokenizers/punkt.zip.\n",
            "[nltk_data]    | Downloading package snowball_data to\n",
            "[nltk_data]    |     /root/nltk_data...\n",
            "[nltk_data]    | Downloading package averaged_perceptron_tagger to\n",
            "[nltk_data]    |     /root/nltk_data...\n",
            "[nltk_data]    |   Unzipping taggers/averaged_perceptron_tagger.zip.\n",
            "[nltk_data]    | \n",
            "[nltk_data]  Done downloading collection popular\n"
          ],
          "name": "stdout"
        },
        {
          "output_type": "execute_result",
          "data": {
            "text/plain": [
              "True"
            ]
          },
          "metadata": {
            "tags": []
          },
          "execution_count": 11
        }
      ]
    },
    {
      "cell_type": "code",
      "metadata": {
        "colab": {
          "base_uri": "https://localhost:8080/",
          "height": 406
        },
        "id": "Q7W9uI_hqRns",
        "outputId": "c1937f94-4c2d-429b-9771-e531738a3f1e"
      },
      "source": [
        "from nltk.stem import WordNetLemmatizer, PorterStemmer\n",
        "from nltk.corpus import stopwords\n",
        "from nltk.tokenize import word_tokenize\n",
        "\n",
        "#Lemmanization\n",
        "wordnet_lemmatizer = WordNetLemmatizer()\n",
        "#Stemming\n",
        "stemmer = PorterStemmer()\n",
        "stopwords = set(stopwords.words('english'))\n",
        "\n",
        "def tokenize_lemma_stopwords(text):\n",
        "\n",
        "    #removing the escape sequences\n",
        "    text = text.replace(\"\\n\", \" \")\n",
        "    text = text.replace(\"\\r\", \" \")\n",
        "\n",
        "    # split string into words (tokens)\n",
        "    tokens = word_tokenize(text.lower())\n",
        "\n",
        "    # keep strings with only alphabets\n",
        "    tokens = [t for t in tokens if t.isalpha()]\n",
        "\n",
        "    # put words into base form\n",
        "    tokens = [wordnet_lemmatizer.lemmatize(t) for t in tokens] \n",
        "    tokens = [stemmer.stem(t) for t in tokens]\n",
        "\n",
        "    # remove short words, they're probably not useful\n",
        "    tokens = [t for t in tokens if len(t) > 2]\n",
        "    tokens = [t for t in tokens if t not in stopwords] # remove stopwords\n",
        "\n",
        "    #removing the names\n",
        "\n",
        "    tokens = tokens[2:]\n",
        "    cleanedText = \" \".join(tokens)\n",
        "    return cleanedText\n",
        "\n",
        "def dataCleaning(df):\n",
        "    data = df.copy()\n",
        "    data[\"content\"] = data[\"content\"].apply(tokenize_lemma_stopwords)\n",
        "    return data\n",
        "\n",
        "clean_train_data = dataCleaning(train_data)\n",
        "clean_test_data = dataCleaning(test_data)\n",
        "\n",
        "\n",
        "clean_train_data"
      ],
      "execution_count": 12,
      "outputs": [
        {
          "output_type": "execute_result",
          "data": {
            "text/html": [
              "<div>\n",
              "<style scoped>\n",
              "    .dataframe tbody tr th:only-of-type {\n",
              "        vertical-align: middle;\n",
              "    }\n",
              "\n",
              "    .dataframe tbody tr th {\n",
              "        vertical-align: top;\n",
              "    }\n",
              "\n",
              "    .dataframe thead th {\n",
              "        text-align: right;\n",
              "    }\n",
              "</style>\n",
              "<table border=\"1\" class=\"dataframe\">\n",
              "  <thead>\n",
              "    <tr style=\"text-align: right;\">\n",
              "      <th></th>\n",
              "      <th>content</th>\n",
              "      <th>labels</th>\n",
              "    </tr>\n",
              "  </thead>\n",
              "  <tbody>\n",
              "    <tr>\n",
              "      <th>0</th>\n",
              "      <td>leav grant special leav petit civil around acr...</td>\n",
              "      <td>[Cause of Action]</td>\n",
              "    </tr>\n",
              "    <tr>\n",
              "      <th>1</th>\n",
              "      <td>sapr delay file special leav petit condon leav...</td>\n",
              "      <td>[Abetment,  Abetment of Suicide,  Absconding, ...</td>\n",
              "    </tr>\n",
              "    <tr>\n",
              "      <th>2</th>\n",
              "      <td>ghose thi crimin appeal special leav direct im...</td>\n",
              "      <td>[Decision,  Exemption,  Exemption Notification...</td>\n",
              "    </tr>\n",
              "    <tr>\n",
              "      <th>3</th>\n",
              "      <td>place befor bench thi court differ view expres...</td>\n",
              "      <td>[Child Labour,  Compensation,  Fundamental Rig...</td>\n",
              "    </tr>\n",
              "    <tr>\n",
              "      <th>4</th>\n",
              "      <td>counsel parti prayer made thi writ petit follo...</td>\n",
              "      <td>[Account,  Auditor,  Authentication,  Commerci...</td>\n",
              "    </tr>\n",
              "    <tr>\n",
              "      <th>...</th>\n",
              "      <td>...</td>\n",
              "      <td>...</td>\n",
              "    </tr>\n",
              "    <tr>\n",
              "      <th>75</th>\n",
              "      <td>appeal special leav though appeal three number...</td>\n",
              "      <td>[Administration of Justice,  Admiralty Jurisdi...</td>\n",
              "    </tr>\n",
              "    <tr>\n",
              "      <th>76</th>\n",
              "      <td>question involv thi batch appeal writ petit co...</td>\n",
              "      <td>[Absorption,  Ad]</td>\n",
              "    </tr>\n",
              "    <tr>\n",
              "      <th>77</th>\n",
              "      <td>grant thi appeal special leav aris order date ...</td>\n",
              "      <td>[Appreciation of Evidence,  Assault,  Autopsy,...</td>\n",
              "    </tr>\n",
              "    <tr>\n",
              "      <th>78</th>\n",
              "      <td>despit complet decad date solemnis marriag spi...</td>\n",
              "      <td>[Amicus Curiae,  Circumstantial Evidence,  Eye...</td>\n",
              "    </tr>\n",
              "    <tr>\n",
              "      <th>79</th>\n",
              "      <td>appel anthoni anil kumar anil seril georg babl...</td>\n",
              "      <td>[Absence,  Access,  Accident,  Account,  Acqui...</td>\n",
              "    </tr>\n",
              "  </tbody>\n",
              "</table>\n",
              "<p>80 rows × 2 columns</p>\n",
              "</div>"
            ],
            "text/plain": [
              "                                              content                                             labels\n",
              "0   leav grant special leav petit civil around acr...                                  [Cause of Action]\n",
              "1   sapr delay file special leav petit condon leav...  [Abetment,  Abetment of Suicide,  Absconding, ...\n",
              "2   ghose thi crimin appeal special leav direct im...  [Decision,  Exemption,  Exemption Notification...\n",
              "3   place befor bench thi court differ view expres...  [Child Labour,  Compensation,  Fundamental Rig...\n",
              "4   counsel parti prayer made thi writ petit follo...  [Account,  Auditor,  Authentication,  Commerci...\n",
              "..                                                ...                                                ...\n",
              "75  appeal special leav though appeal three number...  [Administration of Justice,  Admiralty Jurisdi...\n",
              "76  question involv thi batch appeal writ petit co...                                  [Absorption,  Ad]\n",
              "77  grant thi appeal special leav aris order date ...  [Appreciation of Evidence,  Assault,  Autopsy,...\n",
              "78  despit complet decad date solemnis marriag spi...  [Amicus Curiae,  Circumstantial Evidence,  Eye...\n",
              "79  appel anthoni anil kumar anil seril georg babl...  [Absence,  Access,  Accident,  Account,  Acqui...\n",
              "\n",
              "[80 rows x 2 columns]"
            ]
          },
          "metadata": {
            "tags": []
          },
          "execution_count": 12
        }
      ]
    },
    {
      "cell_type": "markdown",
      "metadata": {
        "id": "n0aKR0Iwsq68"
      },
      "source": [
        "## Data Embedding / Vectorization\n",
        "Here i have choosed IF-DF feature extraction"
      ]
    },
    {
      "cell_type": "code",
      "metadata": {
        "colab": {
          "base_uri": "https://localhost:8080/"
        },
        "id": "BzschbcxzLA3",
        "outputId": "c03424bb-6fac-4d85-f277-8ffd9e73cc7b"
      },
      "source": [
        "from sklearn.feature_extraction.text import TfidfVectorizer\n",
        "from sklearn import metrics\n",
        "\n",
        "vectorizer = TfidfVectorizer()\n",
        "df3 = pd.concat([clean_train_data[\"content\"], clean_test_data[\"content\"]])\n",
        "df3 = pd.DataFrame(df3)\n",
        "vectorized_data = vectorizer.fit_transform(df3[\"content\"])\n",
        "vectorized_train_data = vectorized_data[:80]\n",
        "vectorized_test_data  = vectorized_data[80:]\n",
        "vectorized_test_data.shape, vectorized_train_data.shape"
      ],
      "execution_count": 13,
      "outputs": [
        {
          "output_type": "execute_result",
          "data": {
            "text/plain": [
              "((101, 10170), (80, 10170))"
            ]
          },
          "metadata": {
            "tags": []
          },
          "execution_count": 13
        }
      ]
    },
    {
      "cell_type": "markdown",
      "metadata": {
        "id": "j7HiSdPWzXGx"
      },
      "source": [
        "## Frequency distribution of words(tokens) after pre-processing."
      ]
    },
    {
      "cell_type": "code",
      "metadata": {
        "colab": {
          "base_uri": "https://localhost:8080/",
          "height": 605
        },
        "id": "Gpt5yBRnzc-m",
        "outputId": "5744b129-2de7-4b72-8008-7ce93346a54d"
      },
      "source": [
        "from yellowbrick.text import FreqDistVisualizer\n",
        "features = vectorizer.get_feature_names()\n",
        "fig, axes = plt.subplots(figsize=(15,8))\n",
        "axes.set_ylabel('tokens')\n",
        "axes.set_title('Frequecy Distribution of tokens')\n",
        "axes.set_xticklabels(features, fontdict={'fontsize': 15})\n",
        "visualizer = FreqDistVisualizer(features =features, orient='v', ax= axes,color=\"#75a1c0\")\n",
        "visualizer.fit(vectorized_train_data)\n",
        "plt.legend();"
      ],
      "execution_count": 14,
      "outputs": [
        {
          "output_type": "stream",
          "text": [
            "/usr/local/lib/python3.7/dist-packages/sklearn/utils/deprecation.py:144: FutureWarning: The sklearn.metrics.classification module is  deprecated in version 0.22 and will be removed in version 0.24. The corresponding classes / functions should instead be imported from sklearn.metrics. Anything that cannot be imported from sklearn.metrics is now part of the private API.\n",
            "  warnings.warn(message, FutureWarning)\n"
          ],
          "name": "stderr"
        },
        {
          "output_type": "display_data",
          "data": {
            "image/png": "[encoded data removed]",
            "text/plain": [
              "<Figure size 1080x576 with 1 Axes>"
            ]
          },
          "metadata": {
            "tags": []
          }
        }
      ]
    },
    {
      "cell_type": "markdown",
      "metadata": {
        "id": "ENw3URIzzgu3"
      },
      "source": [
        "### Vectorizing the labels using `MultiLabelBinarizer`"
      ]
    },
    {
      "cell_type": "code",
      "metadata": {
        "id": "fCj7JVBs7hsd"
      },
      "source": [
        "from sklearn.preprocessing import MultiLabelBinarizer\n",
        "\n",
        "mlb = MultiLabelBinarizer()\n",
        "train_labels = mlb.fit_transform(tag_list)\n"
      ],
      "execution_count": 15,
      "outputs": []
    },
    {
      "cell_type": "code",
      "metadata": {
        "colab": {
          "base_uri": "https://localhost:8080/",
          "height": 763
        },
        "id": "TMalFIjY5t2X",
        "outputId": "401c811e-37d9-47d8-a95f-3f3b5a9ef8c7"
      },
      "source": [
        "\n",
        "temp_df = pd.DataFrame(data=train_labels, columns= unique_tags)\n",
        "temp_df.insert(loc=0, column='content', value=clean_train_data['content'])\n",
        "temp_df.head()"
      ],
      "execution_count": null,
      "outputs": [
        {
          "output_type": "execute_result",
          "data": {
            "text/html": [
              "<div>\n",
              "<style scoped>\n",
              "    .dataframe tbody tr th:only-of-type {\n",
              "        vertical-align: middle;\n",
              "    }\n",
              "\n",
              "    .dataframe tbody tr th {\n",
              "        vertical-align: top;\n",
              "    }\n",
              "\n",
              "    .dataframe thead th {\n",
              "        text-align: right;\n",
              "    }\n",
              "</style>\n",
              "<table border=\"1\" class=\"dataframe\">\n",
              "  <thead>\n",
              "    <tr style=\"text-align: right;\">\n",
              "      <th></th>\n",
              "      <th>content</th>\n",
              "      <th>Abetment of Suicide</th>\n",
              "      <th>Absconding</th>\n",
              "      <th>Access</th>\n",
              "      <th>Accident</th>\n",
              "      <th>Accidental Death</th>\n",
              "      <th>Accommodation</th>\n",
              "      <th>Account</th>\n",
              "      <th>Account Book</th>\n",
              "      <th>Accounts</th>\n",
              "      <th>Accusation</th>\n",
              "      <th>Accused</th>\n",
              "      <th>Acquisition</th>\n",
              "      <th>Acquisition Proceeding</th>\n",
              "      <th>Act</th>\n",
              "      <th>Ad</th>\n",
              "      <th>Additional Advocate General</th>\n",
              "      <th>Additional Evidence</th>\n",
              "      <th>Adjournment</th>\n",
              "      <th>Adjudicating Authority</th>\n",
              "      <th>Adjudication</th>\n",
              "      <th>Adjudication Proceeding</th>\n",
              "      <th>Adjustment</th>\n",
              "      <th>Administration</th>\n",
              "      <th>Administration of Justice</th>\n",
              "      <th>Administrative</th>\n",
              "      <th>Administrative Authority</th>\n",
              "      <th>Administrative Power</th>\n",
              "      <th>Admiralty Jurisdiction</th>\n",
              "      <th>Adoption</th>\n",
              "      <th>Adoptive Parent</th>\n",
              "      <th>Advance Licence</th>\n",
              "      <th>Adverse Entry</th>\n",
              "      <th>Advertisement</th>\n",
              "      <th>Advocate General</th>\n",
              "      <th>Against Any Liability</th>\n",
              "      <th>Age</th>\n",
              "      <th>Agency</th>\n",
              "      <th>Agent</th>\n",
              "      <th>Agrarian Reform</th>\n",
              "      <th>...</th>\n",
              "      <th>Act</th>\n",
              "      <th>Act of Omission</th>\n",
              "      <th>Acting Chief Justice</th>\n",
              "      <th>Actionable Claim</th>\n",
              "      <th>Ad</th>\n",
              "      <th>Adjudication</th>\n",
              "      <th>Administration of Justice</th>\n",
              "      <th>Administrative</th>\n",
              "      <th>Administrative Action</th>\n",
              "      <th>Admission</th>\n",
              "      <th>Advocate General</th>\n",
              "      <th>Affirmation</th>\n",
              "      <th>Agreement</th>\n",
              "      <th>Allotment</th>\n",
              "      <th>Aluminium</th>\n",
              "      <th>Amendment</th>\n",
              "      <th>Amicus Curiae</th>\n",
              "      <th>Annual Letting Value</th>\n",
              "      <th>Appeal</th>\n",
              "      <th>Appealable Order</th>\n",
              "      <th>Application</th>\n",
              "      <th>Appointment</th>\n",
              "      <th>Appreciation of Evidence</th>\n",
              "      <th>Appropriation</th>\n",
              "      <th>Assault</th>\n",
              "      <th>Attesting Witness</th>\n",
              "      <th>Bank</th>\n",
              "      <th>Baseless</th>\n",
              "      <th>Benefit of Doubt</th>\n",
              "      <th>Cause of Action</th>\n",
              "      <th>Child Labour</th>\n",
              "      <th>Civil Appeal</th>\n",
              "      <th>Coastal Zone</th>\n",
              "      <th>Conclusive Proof</th>\n",
              "      <th>Constitution of India</th>\n",
              "      <th>Constitutional Validity</th>\n",
              "      <th>Contempt of Court</th>\n",
              "      <th>Daily Wage</th>\n",
              "      <th>Decision</th>\n",
              "      <th>Promotion</th>\n",
              "    </tr>\n",
              "  </thead>\n",
              "  <tbody>\n",
              "    <tr>\n",
              "      <th>0</th>\n",
              "      <td>kurian joseph leav grant special leav petit ci...</td>\n",
              "      <td>0</td>\n",
              "      <td>0</td>\n",
              "      <td>0</td>\n",
              "      <td>0</td>\n",
              "      <td>0</td>\n",
              "      <td>0</td>\n",
              "      <td>0</td>\n",
              "      <td>0</td>\n",
              "      <td>0</td>\n",
              "      <td>0</td>\n",
              "      <td>0</td>\n",
              "      <td>0</td>\n",
              "      <td>0</td>\n",
              "      <td>0</td>\n",
              "      <td>0</td>\n",
              "      <td>0</td>\n",
              "      <td>0</td>\n",
              "      <td>0</td>\n",
              "      <td>0</td>\n",
              "      <td>0</td>\n",
              "      <td>0</td>\n",
              "      <td>0</td>\n",
              "      <td>0</td>\n",
              "      <td>0</td>\n",
              "      <td>0</td>\n",
              "      <td>0</td>\n",
              "      <td>0</td>\n",
              "      <td>0</td>\n",
              "      <td>0</td>\n",
              "      <td>0</td>\n",
              "      <td>0</td>\n",
              "      <td>0</td>\n",
              "      <td>0</td>\n",
              "      <td>0</td>\n",
              "      <td>0</td>\n",
              "      <td>0</td>\n",
              "      <td>0</td>\n",
              "      <td>0</td>\n",
              "      <td>0</td>\n",
              "      <td>...</td>\n",
              "      <td>0</td>\n",
              "      <td>0</td>\n",
              "      <td>0</td>\n",
              "      <td>0</td>\n",
              "      <td>0</td>\n",
              "      <td>0</td>\n",
              "      <td>0</td>\n",
              "      <td>0</td>\n",
              "      <td>0</td>\n",
              "      <td>0</td>\n",
              "      <td>0</td>\n",
              "      <td>0</td>\n",
              "      <td>0</td>\n",
              "      <td>0</td>\n",
              "      <td>0</td>\n",
              "      <td>0</td>\n",
              "      <td>0</td>\n",
              "      <td>0</td>\n",
              "      <td>0</td>\n",
              "      <td>0</td>\n",
              "      <td>0</td>\n",
              "      <td>0</td>\n",
              "      <td>0</td>\n",
              "      <td>0</td>\n",
              "      <td>0</td>\n",
              "      <td>0</td>\n",
              "      <td>0</td>\n",
              "      <td>0</td>\n",
              "      <td>0</td>\n",
              "      <td>1</td>\n",
              "      <td>0</td>\n",
              "      <td>0</td>\n",
              "      <td>0</td>\n",
              "      <td>0</td>\n",
              "      <td>0</td>\n",
              "      <td>0</td>\n",
              "      <td>0</td>\n",
              "      <td>0</td>\n",
              "      <td>0</td>\n",
              "      <td>0</td>\n",
              "    </tr>\n",
              "    <tr>\n",
              "      <th>1</th>\n",
              "      <td>abhay manohar sapr delay file special leav pet...</td>\n",
              "      <td>1</td>\n",
              "      <td>1</td>\n",
              "      <td>0</td>\n",
              "      <td>0</td>\n",
              "      <td>1</td>\n",
              "      <td>0</td>\n",
              "      <td>0</td>\n",
              "      <td>0</td>\n",
              "      <td>0</td>\n",
              "      <td>0</td>\n",
              "      <td>0</td>\n",
              "      <td>0</td>\n",
              "      <td>0</td>\n",
              "      <td>0</td>\n",
              "      <td>0</td>\n",
              "      <td>0</td>\n",
              "      <td>0</td>\n",
              "      <td>0</td>\n",
              "      <td>0</td>\n",
              "      <td>0</td>\n",
              "      <td>0</td>\n",
              "      <td>0</td>\n",
              "      <td>0</td>\n",
              "      <td>0</td>\n",
              "      <td>0</td>\n",
              "      <td>0</td>\n",
              "      <td>0</td>\n",
              "      <td>0</td>\n",
              "      <td>0</td>\n",
              "      <td>0</td>\n",
              "      <td>0</td>\n",
              "      <td>0</td>\n",
              "      <td>0</td>\n",
              "      <td>0</td>\n",
              "      <td>0</td>\n",
              "      <td>0</td>\n",
              "      <td>0</td>\n",
              "      <td>0</td>\n",
              "      <td>0</td>\n",
              "      <td>...</td>\n",
              "      <td>0</td>\n",
              "      <td>0</td>\n",
              "      <td>0</td>\n",
              "      <td>0</td>\n",
              "      <td>0</td>\n",
              "      <td>0</td>\n",
              "      <td>0</td>\n",
              "      <td>0</td>\n",
              "      <td>0</td>\n",
              "      <td>0</td>\n",
              "      <td>0</td>\n",
              "      <td>0</td>\n",
              "      <td>0</td>\n",
              "      <td>0</td>\n",
              "      <td>0</td>\n",
              "      <td>0</td>\n",
              "      <td>0</td>\n",
              "      <td>0</td>\n",
              "      <td>0</td>\n",
              "      <td>0</td>\n",
              "      <td>0</td>\n",
              "      <td>0</td>\n",
              "      <td>0</td>\n",
              "      <td>0</td>\n",
              "      <td>0</td>\n",
              "      <td>0</td>\n",
              "      <td>0</td>\n",
              "      <td>0</td>\n",
              "      <td>0</td>\n",
              "      <td>0</td>\n",
              "      <td>0</td>\n",
              "      <td>0</td>\n",
              "      <td>0</td>\n",
              "      <td>0</td>\n",
              "      <td>0</td>\n",
              "      <td>0</td>\n",
              "      <td>0</td>\n",
              "      <td>0</td>\n",
              "      <td>0</td>\n",
              "      <td>0</td>\n",
              "    </tr>\n",
              "    <tr>\n",
              "      <th>2</th>\n",
              "      <td>pinaki chandra ghose thi crimin appeal special...</td>\n",
              "      <td>0</td>\n",
              "      <td>0</td>\n",
              "      <td>0</td>\n",
              "      <td>0</td>\n",
              "      <td>0</td>\n",
              "      <td>0</td>\n",
              "      <td>0</td>\n",
              "      <td>0</td>\n",
              "      <td>0</td>\n",
              "      <td>0</td>\n",
              "      <td>0</td>\n",
              "      <td>0</td>\n",
              "      <td>0</td>\n",
              "      <td>0</td>\n",
              "      <td>0</td>\n",
              "      <td>0</td>\n",
              "      <td>0</td>\n",
              "      <td>0</td>\n",
              "      <td>0</td>\n",
              "      <td>0</td>\n",
              "      <td>0</td>\n",
              "      <td>0</td>\n",
              "      <td>0</td>\n",
              "      <td>0</td>\n",
              "      <td>0</td>\n",
              "      <td>0</td>\n",
              "      <td>0</td>\n",
              "      <td>0</td>\n",
              "      <td>0</td>\n",
              "      <td>0</td>\n",
              "      <td>0</td>\n",
              "      <td>0</td>\n",
              "      <td>0</td>\n",
              "      <td>0</td>\n",
              "      <td>0</td>\n",
              "      <td>0</td>\n",
              "      <td>0</td>\n",
              "      <td>0</td>\n",
              "      <td>0</td>\n",
              "      <td>...</td>\n",
              "      <td>0</td>\n",
              "      <td>0</td>\n",
              "      <td>0</td>\n",
              "      <td>0</td>\n",
              "      <td>0</td>\n",
              "      <td>0</td>\n",
              "      <td>0</td>\n",
              "      <td>0</td>\n",
              "      <td>0</td>\n",
              "      <td>0</td>\n",
              "      <td>0</td>\n",
              "      <td>0</td>\n",
              "      <td>0</td>\n",
              "      <td>0</td>\n",
              "      <td>0</td>\n",
              "      <td>0</td>\n",
              "      <td>0</td>\n",
              "      <td>0</td>\n",
              "      <td>0</td>\n",
              "      <td>0</td>\n",
              "      <td>0</td>\n",
              "      <td>0</td>\n",
              "      <td>0</td>\n",
              "      <td>0</td>\n",
              "      <td>0</td>\n",
              "      <td>0</td>\n",
              "      <td>0</td>\n",
              "      <td>0</td>\n",
              "      <td>0</td>\n",
              "      <td>0</td>\n",
              "      <td>0</td>\n",
              "      <td>0</td>\n",
              "      <td>0</td>\n",
              "      <td>0</td>\n",
              "      <td>0</td>\n",
              "      <td>0</td>\n",
              "      <td>0</td>\n",
              "      <td>0</td>\n",
              "      <td>1</td>\n",
              "      <td>0</td>\n",
              "    </tr>\n",
              "    <tr>\n",
              "      <th>3</th>\n",
              "      <td>thi matter place befor bench thi court differ ...</td>\n",
              "      <td>0</td>\n",
              "      <td>0</td>\n",
              "      <td>0</td>\n",
              "      <td>0</td>\n",
              "      <td>0</td>\n",
              "      <td>0</td>\n",
              "      <td>0</td>\n",
              "      <td>0</td>\n",
              "      <td>0</td>\n",
              "      <td>0</td>\n",
              "      <td>0</td>\n",
              "      <td>0</td>\n",
              "      <td>0</td>\n",
              "      <td>0</td>\n",
              "      <td>0</td>\n",
              "      <td>0</td>\n",
              "      <td>0</td>\n",
              "      <td>0</td>\n",
              "      <td>0</td>\n",
              "      <td>0</td>\n",
              "      <td>0</td>\n",
              "      <td>0</td>\n",
              "      <td>0</td>\n",
              "      <td>0</td>\n",
              "      <td>0</td>\n",
              "      <td>0</td>\n",
              "      <td>0</td>\n",
              "      <td>0</td>\n",
              "      <td>0</td>\n",
              "      <td>0</td>\n",
              "      <td>0</td>\n",
              "      <td>0</td>\n",
              "      <td>0</td>\n",
              "      <td>0</td>\n",
              "      <td>0</td>\n",
              "      <td>0</td>\n",
              "      <td>0</td>\n",
              "      <td>0</td>\n",
              "      <td>0</td>\n",
              "      <td>...</td>\n",
              "      <td>0</td>\n",
              "      <td>0</td>\n",
              "      <td>0</td>\n",
              "      <td>0</td>\n",
              "      <td>0</td>\n",
              "      <td>0</td>\n",
              "      <td>0</td>\n",
              "      <td>0</td>\n",
              "      <td>0</td>\n",
              "      <td>0</td>\n",
              "      <td>0</td>\n",
              "      <td>0</td>\n",
              "      <td>0</td>\n",
              "      <td>0</td>\n",
              "      <td>0</td>\n",
              "      <td>0</td>\n",
              "      <td>0</td>\n",
              "      <td>0</td>\n",
              "      <td>0</td>\n",
              "      <td>0</td>\n",
              "      <td>0</td>\n",
              "      <td>0</td>\n",
              "      <td>0</td>\n",
              "      <td>0</td>\n",
              "      <td>0</td>\n",
              "      <td>0</td>\n",
              "      <td>0</td>\n",
              "      <td>0</td>\n",
              "      <td>0</td>\n",
              "      <td>0</td>\n",
              "      <td>1</td>\n",
              "      <td>0</td>\n",
              "      <td>0</td>\n",
              "      <td>0</td>\n",
              "      <td>0</td>\n",
              "      <td>0</td>\n",
              "      <td>0</td>\n",
              "      <td>0</td>\n",
              "      <td>0</td>\n",
              "      <td>0</td>\n",
              "    </tr>\n",
              "    <tr>\n",
              "      <th>4</th>\n",
              "      <td>heard learn counsel parti prayer made thi writ...</td>\n",
              "      <td>0</td>\n",
              "      <td>0</td>\n",
              "      <td>0</td>\n",
              "      <td>0</td>\n",
              "      <td>0</td>\n",
              "      <td>0</td>\n",
              "      <td>0</td>\n",
              "      <td>0</td>\n",
              "      <td>0</td>\n",
              "      <td>0</td>\n",
              "      <td>0</td>\n",
              "      <td>0</td>\n",
              "      <td>0</td>\n",
              "      <td>0</td>\n",
              "      <td>0</td>\n",
              "      <td>0</td>\n",
              "      <td>0</td>\n",
              "      <td>0</td>\n",
              "      <td>0</td>\n",
              "      <td>0</td>\n",
              "      <td>0</td>\n",
              "      <td>0</td>\n",
              "      <td>0</td>\n",
              "      <td>0</td>\n",
              "      <td>0</td>\n",
              "      <td>0</td>\n",
              "      <td>0</td>\n",
              "      <td>0</td>\n",
              "      <td>0</td>\n",
              "      <td>0</td>\n",
              "      <td>0</td>\n",
              "      <td>0</td>\n",
              "      <td>0</td>\n",
              "      <td>0</td>\n",
              "      <td>0</td>\n",
              "      <td>0</td>\n",
              "      <td>0</td>\n",
              "      <td>0</td>\n",
              "      <td>0</td>\n",
              "      <td>...</td>\n",
              "      <td>0</td>\n",
              "      <td>0</td>\n",
              "      <td>0</td>\n",
              "      <td>0</td>\n",
              "      <td>0</td>\n",
              "      <td>0</td>\n",
              "      <td>0</td>\n",
              "      <td>0</td>\n",
              "      <td>0</td>\n",
              "      <td>0</td>\n",
              "      <td>0</td>\n",
              "      <td>0</td>\n",
              "      <td>0</td>\n",
              "      <td>0</td>\n",
              "      <td>0</td>\n",
              "      <td>0</td>\n",
              "      <td>0</td>\n",
              "      <td>0</td>\n",
              "      <td>0</td>\n",
              "      <td>0</td>\n",
              "      <td>0</td>\n",
              "      <td>0</td>\n",
              "      <td>0</td>\n",
              "      <td>0</td>\n",
              "      <td>0</td>\n",
              "      <td>0</td>\n",
              "      <td>0</td>\n",
              "      <td>0</td>\n",
              "      <td>0</td>\n",
              "      <td>0</td>\n",
              "      <td>0</td>\n",
              "      <td>0</td>\n",
              "      <td>0</td>\n",
              "      <td>0</td>\n",
              "      <td>0</td>\n",
              "      <td>0</td>\n",
              "      <td>0</td>\n",
              "      <td>0</td>\n",
              "      <td>0</td>\n",
              "      <td>0</td>\n",
              "    </tr>\n",
              "  </tbody>\n",
              "</table>\n",
              "<p>5 rows × 1323 columns</p>\n",
              "</div>"
            ],
            "text/plain": [
              "                                             content  ...  Promotion\n",
              "0  kurian joseph leav grant special leav petit ci...  ...          0\n",
              "1  abhay manohar sapr delay file special leav pet...  ...          0\n",
              "2  pinaki chandra ghose thi crimin appeal special...  ...          0\n",
              "3  thi matter place befor bench thi court differ ...  ...          0\n",
              "4  heard learn counsel parti prayer made thi writ...  ...          0\n",
              "\n",
              "[5 rows x 1323 columns]"
            ]
          },
          "metadata": {
            "tags": []
          },
          "execution_count": 99
        }
      ]
    },
    {
      "cell_type": "markdown",
      "metadata": {
        "id": "HIsLyH-hEbXq"
      },
      "source": [
        "## Modelling"
      ]
    },
    {
      "cell_type": "markdown",
      "metadata": {
        "id": "_GHOeMerVkGP"
      },
      "source": [
        "### Creating a evaluation function"
      ]
    },
    {
      "cell_type": "code",
      "metadata": {
        "id": "yR_JcA4zVsnI"
      },
      "source": [
        "from sklearn.metrics import accuracy_score, precision_score, recall_score, f1_score\n",
        "eval = {}\n",
        "\n",
        "def eval_scores(model_name, test_labels, y_preds):\n",
        "  \n",
        "  #Considering the micro average F1 score as there in inequal distribution\n",
        "\n",
        "  precision = precision_score( test_labels, y_preds, average='micro')\n",
        "  recall = recall_score(test_labels, y_preds, average='micro' )\n",
        "  f1 = f1_score(test_labels, y_preds, average= 'micro')\n",
        "  eval = {'Model Name': model_name,\n",
        "          'Precision': precision,\n",
        "          'Recall Scores': recall,\n",
        "          'F1 Scores': f1\n",
        "          }\n",
        "  return eval\n",
        "\n"
      ],
      "execution_count": 16,
      "outputs": []
    },
    {
      "cell_type": "code",
      "metadata": {
        "colab": {
          "base_uri": "https://localhost:8080/"
        },
        "id": "mIGA0jUJK6tv",
        "outputId": "35544eaa-fc5d-4e7a-8a41-89a856ff4ab6"
      },
      "source": [
        "from sklearn.model_selection import train_test_split\n",
        "x = vectorized_train_data\n",
        "y = train_labels\n",
        "x_train, x_test, y_train, y_test = train_test_split(x,y , test_size=0.2, random_state=42,shuffle=True)\n",
        "y_train"
      ],
      "execution_count": null,
      "outputs": [
        {
          "output_type": "execute_result",
          "data": {
            "text/plain": [
              "array([[0, 0, 0, ..., 0, 0, 0],\n",
              "       [0, 0, 0, ..., 0, 0, 0],\n",
              "       [0, 0, 0, ..., 0, 0, 0],\n",
              "       ...,\n",
              "       [0, 0, 0, ..., 0, 0, 0],\n",
              "       [0, 0, 0, ..., 0, 0, 0],\n",
              "       [0, 0, 0, ..., 0, 0, 0]])"
            ]
          },
          "metadata": {
            "tags": []
          },
          "execution_count": 100
        }
      ]
    },
    {
      "cell_type": "markdown",
      "metadata": {
        "id": "wIrSHN4qGTEk"
      },
      "source": [
        "### Using OneVsRest (Data Transformation)\n",
        "\n",
        "`LinearSVC`\n"
      ]
    },
    {
      "cell_type": "code",
      "metadata": {
        "colab": {
          "base_uri": "https://localhost:8080/"
        },
        "id": "6Q34LANGGa9-",
        "outputId": "d3c2d0aa-d7de-4f11-fedb-216b8310ac59"
      },
      "source": [
        "from sklearn.svm import LinearSVC\n",
        "from sklearn.multiclass import OneVsRestClassifier\n",
        "from sklearn.model_selection import train_test_split\n",
        "\n",
        "svm_clf = OneVsRestClassifier(LinearSVC(), n_jobs=-1)\n",
        "svm_clf.fit(x_train, y_train)\n",
        "y_preds = svm_clf.predict(x_test)\n",
        "print(eval_scores('LinearSVC',  y_test, y_preds))\n"
      ],
      "execution_count": null,
      "outputs": [
        {
          "output_type": "stream",
          "text": [
            "{'Model Name': 'LinearSVC', 'Precision': 0.0, 'Recall Scores': 0.0, 'F1 Scores': 0.0}\n"
          ],
          "name": "stdout"
        },
        {
          "output_type": "stream",
          "text": [
            "/usr/local/lib/python3.7/dist-packages/sklearn/metrics/_classification.py:1272: UndefinedMetricWarning: Precision is ill-defined and being set to 0.0 due to no predicted samples. Use `zero_division` parameter to control this behavior.\n",
            "  _warn_prf(average, modifier, msg_start, len(result))\n"
          ],
          "name": "stderr"
        }
      ]
    },
    {
      "cell_type": "markdown",
      "metadata": {
        "id": "aSAqk-1TNpMk"
      },
      "source": [
        " Naive Bayes Classifier `NBC`"
      ]
    },
    {
      "cell_type": "code",
      "metadata": {
        "colab": {
          "base_uri": "https://localhost:8080/"
        },
        "id": "pcswiYQ54G1c",
        "outputId": "deb30f62-c0b8-4116-a333-e9fc851d9c72"
      },
      "source": [
        "from sklearn.neighbors import KNeighborsClassifier\n",
        "from sklearn.multiclass import OneVsRestClassifier\n",
        "\n",
        "knnClf = KNeighborsClassifier()\n",
        "\n",
        "knnClf.fit(x_train, y_train)\n",
        "knnPredictions = knnClf.predict(x_test)\n",
        "print(eval_scores('BaggingCalssifier',  y_test, knnPredictions))"
      ],
      "execution_count": null,
      "outputs": [
        {
          "output_type": "stream",
          "text": [
            "{'Model Name': 'BaggingCalssifier', 'Precision': 0.0, 'Recall Scores': 0.0, 'F1 Scores': 0.0}\n"
          ],
          "name": "stdout"
        }
      ]
    },
    {
      "cell_type": "markdown",
      "metadata": {
        "id": "UVABubZjQPU7"
      },
      "source": [
        "## It is clear that we need more sample data to predict a total of 1322 labels which is far large than the amount of data we have. We have provided only 80 samples of test where each label appears approximatly 2 times.\n"
      ]
    },
    {
      "cell_type": "markdown",
      "metadata": {
        "id": "Cd6igevbxy0F"
      },
      "source": [
        "## We need to lessen the labels, so in order to do so,  here i have used KMeans algorithm to cluster the similar tags in an attempt of reducing the class labels"
      ]
    },
    {
      "cell_type": "markdown",
      "metadata": {
        "id": "kSdfiPjVBOJT"
      },
      "source": [
        "## Clustering the Labels"
      ]
    },
    {
      "cell_type": "code",
      "metadata": {
        "colab": {
          "base_uri": "https://localhost:8080/"
        },
        "id": "rs8zHnLmFRcX",
        "outputId": "7d6f0499-7d9b-47a9-e378-6f3cca8a9fb5"
      },
      "source": [
        "unique_tags[:10]"
      ],
      "execution_count": null,
      "outputs": [
        {
          "output_type": "execute_result",
          "data": {
            "text/plain": [
              "array(['abet suicid', 'abscond', 'access', 'accid', 'accid death',\n",
              "       'accommod', 'account', 'account book', 'account', 'accu'],\n",
              "      dtype='<U50')"
            ]
          },
          "metadata": {
            "tags": []
          },
          "execution_count": 179
        }
      ]
    },
    {
      "cell_type": "markdown",
      "metadata": {
        "id": "S6HyM6mpyvtN"
      },
      "source": [
        "### Vectorizing the tags"
      ]
    },
    {
      "cell_type": "code",
      "metadata": {
        "id": "NMIuhtenEBbp"
      },
      "source": [
        "from sklearn.feature_extraction.text import TfidfVectorizer\n",
        "vectorizer = TfidfVectorizer(stop_words={'english'})\n",
        "X = vectorizer.fit_transform(unique_tags)"
      ],
      "execution_count": 17,
      "outputs": []
    },
    {
      "cell_type": "markdown",
      "metadata": {
        "id": "RnqcMBn_y3uF"
      },
      "source": [
        "### Using Kmeans to cluster"
      ]
    },
    {
      "cell_type": "code",
      "metadata": {
        "id": "h4WNGcZdOfkK",
        "colab": {
          "base_uri": "https://localhost:8080/",
          "height": 393
        },
        "outputId": "87d9dd28-9fcd-4932-b281-d477fecd7984"
      },
      "source": [
        "np.random.seed(0)\n",
        "from sklearn.cluster import KMeans\n",
        "Sum_of_squared_distances = []\n",
        "K = range(50,300)\n",
        "for k in K:\n",
        "   km = KMeans(n_clusters=k, max_iter=50, n_init=10)\n",
        "   km = km.fit(X)\n",
        "   Sum_of_squared_distances.append(km.inertia_)\n",
        "plt.plot(K, Sum_of_squared_distances, 'bx-')\n",
        "plt.xlabel('k')\n",
        "plt.ylabel('Sum_of_squared_distances')\n",
        "plt.title('Elbow Method For Optimal k')\n"
      ],
      "execution_count": 19,
      "outputs": [
        {
          "output_type": "execute_result",
          "data": {
            "text/plain": [
              "Text(0.5, 1.0, 'Elbow Method For Optimal k')"
            ]
          },
          "metadata": {
            "tags": []
          },
          "execution_count": 19
        },
        {
          "output_type": "display_data",
          "data": {
            "image/png": "[encoded data removed]",
            "text/plain": [
              "<Figure size 576x396 with 1 Axes>"
            ]
          },
          "metadata": {
            "tags": []
          }
        }
      ]
    },
    {
      "cell_type": "code",
      "metadata": {
        "id": "4ehbD4BkOlWs"
      },
      "source": [
        "true_k = 250\n",
        "model = KMeans(n_clusters=true_k, init='k-means++', max_iter=200, n_init=10, random_state=42)\n",
        "model.fit(X)\n",
        "labels = model.labels_\n",
        "tag_cluster = pd.DataFrame(list(zip(labels, unique_tags)),columns=['cluster', 'tag'])\n",
        "print(tag_cluster.sort_values(by=['cluster'], ascending=False))"
      ],
      "execution_count": null,
      "outputs": []
    },
    {
      "cell_type": "markdown",
      "metadata": {
        "id": "hmAossHJzCWQ"
      },
      "source": [
        "### Tags distribution over the clusters (Visualisation)"
      ]
    },
    {
      "cell_type": "code",
      "metadata": {
        "colab": {
          "base_uri": "https://localhost:8080/",
          "height": 564
        },
        "id": "v5F1W7jwPiov",
        "outputId": "612584ad-2688-4103-ffd7-2fd06015e437"
      },
      "source": [
        "tag_cluster['cluster'].value_counts()[:50].plot(kind='bar', figsize=(20,10), color=\"#75a1c0\" )"
      ],
      "execution_count": 158,
      "outputs": [
        {
          "output_type": "execute_result",
          "data": {
            "text/plain": [
              "<matplotlib.axes._subplots.AxesSubplot at 0x7fea5b32f9d0>"
            ]
          },
          "metadata": {
            "tags": []
          },
          "execution_count": 158
        },
        {
          "output_type": "display_data",
          "data": {
            "image/png": "[encoded data removed]",
            "text/plain": [
              "<Figure size 1440x720 with 1 Axes>"
            ]
          },
          "metadata": {
            "tags": []
          }
        }
      ]
    },
    {
      "cell_type": "markdown",
      "metadata": {
        "id": "9dttxx4gYJfG"
      },
      "source": [
        "We have found 250 clusters, now we use them for Multilabel classification intead of our 1322 classes"
      ]
    },
    {
      "cell_type": "markdown",
      "metadata": {
        "id": "Hr0YiqtKdp5F"
      },
      "source": [
        "Step 1: Creating DataFrame"
      ]
    },
    {
      "cell_type": "code",
      "metadata": {
        "colab": {
          "base_uri": "https://localhost:8080/",
          "height": 406
        },
        "id": "l5B5jLjJmQOo",
        "outputId": "9d828bbb-aaea-491f-a33e-bc924144484a"
      },
      "source": [
        "another_tag_list = []\n",
        "for tags in clean_train_data['labels']:\n",
        "  temp_list = []\n",
        "  for tag in tags:\n",
        "    temp = int(tag_cluster[ tag_cluster['tag']== tag].cluster)\n",
        "    if temp not in temp_list:\n",
        "      temp_list.append(temp)\n",
        "  another_tag_list.append(temp_list)\n",
        "\n",
        "clean_train_data = clean_train_data.copy()\n",
        "clean_train_data['cluster'] = another_tag_list\n",
        "clean_train_data"
      ],
      "execution_count": 159,
      "outputs": [
        {
          "output_type": "execute_result",
          "data": {
            "text/html": [
              "<div>\n",
              "<style scoped>\n",
              "    .dataframe tbody tr th:only-of-type {\n",
              "        vertical-align: middle;\n",
              "    }\n",
              "\n",
              "    .dataframe tbody tr th {\n",
              "        vertical-align: top;\n",
              "    }\n",
              "\n",
              "    .dataframe thead th {\n",
              "        text-align: right;\n",
              "    }\n",
              "</style>\n",
              "<table border=\"1\" class=\"dataframe\">\n",
              "  <thead>\n",
              "    <tr style=\"text-align: right;\">\n",
              "      <th></th>\n",
              "      <th>content</th>\n",
              "      <th>labels</th>\n",
              "      <th>cluster</th>\n",
              "    </tr>\n",
              "  </thead>\n",
              "  <tbody>\n",
              "    <tr>\n",
              "      <th>0</th>\n",
              "      <td>leav grant special leav petit civil around acr...</td>\n",
              "      <td>[Cause of Action]</td>\n",
              "      <td>[25]</td>\n",
              "    </tr>\n",
              "    <tr>\n",
              "      <th>1</th>\n",
              "      <td>sapr delay file special leav petit condon leav...</td>\n",
              "      <td>[Abetment,  Abetment of Suicide,  Absconding, ...</td>\n",
              "      <td>[249, 3, 63, 201, 26, 156]</td>\n",
              "    </tr>\n",
              "    <tr>\n",
              "      <th>2</th>\n",
              "      <td>ghose thi crimin appeal special leav direct im...</td>\n",
              "      <td>[Decision,  Exemption,  Exemption Notification...</td>\n",
              "      <td>[77, 164, 217, 3, 70, 114, 37, 38]</td>\n",
              "    </tr>\n",
              "    <tr>\n",
              "      <th>3</th>\n",
              "      <td>place befor bench thi court differ view expres...</td>\n",
              "      <td>[Child Labour,  Compensation,  Fundamental Rig...</td>\n",
              "      <td>[105, 35, 145, 3, 246, 67, 154]</td>\n",
              "    </tr>\n",
              "    <tr>\n",
              "      <th>4</th>\n",
              "      <td>counsel parti prayer made thi writ petit follo...</td>\n",
              "      <td>[Account,  Auditor,  Authentication,  Commerci...</td>\n",
              "      <td>[130, 3, 141, 6, 144, 182, 46, 148, 153]</td>\n",
              "    </tr>\n",
              "    <tr>\n",
              "      <th>...</th>\n",
              "      <td>...</td>\n",
              "      <td>...</td>\n",
              "      <td>...</td>\n",
              "    </tr>\n",
              "    <tr>\n",
              "      <th>75</th>\n",
              "      <td>appeal special leav though appeal three number...</td>\n",
              "      <td>[Administration of Justice,  Admiralty Jurisdi...</td>\n",
              "      <td>[241, 9, 3, 0, 238, 35, 196, 70, 234, 51, 165,...</td>\n",
              "    </tr>\n",
              "    <tr>\n",
              "      <th>76</th>\n",
              "      <td>question involv thi batch appeal writ petit co...</td>\n",
              "      <td>[Absorption,  Ad]</td>\n",
              "      <td>[3, 180]</td>\n",
              "    </tr>\n",
              "    <tr>\n",
              "      <th>77</th>\n",
              "      <td>grant thi appeal special leav aris order date ...</td>\n",
              "      <td>[Appreciation of Evidence,  Assault,  Autopsy,...</td>\n",
              "      <td>[201, 94, 3, 145, 72, 70, 63, 110]</td>\n",
              "    </tr>\n",
              "    <tr>\n",
              "      <th>78</th>\n",
              "      <td>despit complet decad date solemnis marriag spi...</td>\n",
              "      <td>[Amicus Curiae,  Circumstantial Evidence,  Eye...</td>\n",
              "      <td>[0, 201, 26, 129, 131, 3, 74, 57]</td>\n",
              "    </tr>\n",
              "    <tr>\n",
              "      <th>79</th>\n",
              "      <td>appel anthoni anil kumar anil seril georg babl...</td>\n",
              "      <td>[Absence,  Access,  Accident,  Account,  Acqui...</td>\n",
              "      <td>[3, 74, 130, 124, 11, 5, 167, 117, 35, 208, 11...</td>\n",
              "    </tr>\n",
              "  </tbody>\n",
              "</table>\n",
              "<p>80 rows × 3 columns</p>\n",
              "</div>"
            ],
            "text/plain": [
              "                                              content  ...                                            cluster\n",
              "0   leav grant special leav petit civil around acr...  ...                                               [25]\n",
              "1   sapr delay file special leav petit condon leav...  ...                         [249, 3, 63, 201, 26, 156]\n",
              "2   ghose thi crimin appeal special leav direct im...  ...                 [77, 164, 217, 3, 70, 114, 37, 38]\n",
              "3   place befor bench thi court differ view expres...  ...                    [105, 35, 145, 3, 246, 67, 154]\n",
              "4   counsel parti prayer made thi writ petit follo...  ...           [130, 3, 141, 6, 144, 182, 46, 148, 153]\n",
              "..                                                ...  ...                                                ...\n",
              "75  appeal special leav though appeal three number...  ...  [241, 9, 3, 0, 238, 35, 196, 70, 234, 51, 165,...\n",
              "76  question involv thi batch appeal writ petit co...  ...                                           [3, 180]\n",
              "77  grant thi appeal special leav aris order date ...  ...                 [201, 94, 3, 145, 72, 70, 63, 110]\n",
              "78  despit complet decad date solemnis marriag spi...  ...                  [0, 201, 26, 129, 131, 3, 74, 57]\n",
              "79  appel anthoni anil kumar anil seril georg babl...  ...  [3, 74, 130, 124, 11, 5, 167, 117, 35, 208, 11...\n",
              "\n",
              "[80 rows x 3 columns]"
            ]
          },
          "metadata": {
            "tags": []
          },
          "execution_count": 159
        }
      ]
    },
    {
      "cell_type": "markdown",
      "metadata": {
        "id": "6Eq_cj7Cm3pW"
      },
      "source": [
        "Step 2. MultiLabel Binarizing for clusters"
      ]
    },
    {
      "cell_type": "code",
      "metadata": {
        "colab": {
          "base_uri": "https://localhost:8080/",
          "height": 0
        },
        "id": "lPeZ07Eiu4WK",
        "outputId": "89079374-14e2-4bcc-98d2-f922ebdf2ec7"
      },
      "source": [
        "from sklearn.preprocessing import MultiLabelBinarizer\n",
        "\n",
        "mlb = MultiLabelBinarizer()\n",
        "train_labels_cluster = mlb.fit_transform(clean_train_data['cluster'])\n",
        "train_labels_cluster.shape"
      ],
      "execution_count": 160,
      "outputs": [
        {
          "output_type": "execute_result",
          "data": {
            "text/plain": [
              "(80, 250)"
            ]
          },
          "metadata": {
            "tags": []
          },
          "execution_count": 160
        }
      ]
    },
    {
      "cell_type": "markdown",
      "metadata": {
        "id": "YCfYjYW-zWGR"
      },
      "source": [
        "## Modelling"
      ]
    },
    {
      "cell_type": "code",
      "metadata": {
        "id": "hLa0zIskvLd-"
      },
      "source": [
        "from sklearn.model_selection import train_test_split\n",
        "x = vectorized_train_data\n",
        "y = train_labels_cluster\n",
        "x_train, x_test, y_train, y_test = train_test_split(x,y , test_size=0.2, random_state=42)"
      ],
      "execution_count": 161,
      "outputs": []
    },
    {
      "cell_type": "markdown",
      "metadata": {
        "id": "olwcRDa1zZ3y"
      },
      "source": [
        "`KNeighborsClassifier` using OneVsRest (Data Transformation)"
      ]
    },
    {
      "cell_type": "code",
      "metadata": {
        "colab": {
          "base_uri": "https://localhost:8080/",
          "height": 0
        },
        "id": "BtwXWUXSwIw7",
        "outputId": "657fb60e-1727-4f3d-c314-f3a6528199c1"
      },
      "source": [
        "from sklearn.neighbors import KNeighborsClassifier\n",
        "from sklearn.multiclass import OneVsRestClassifier\n",
        "\n",
        "knnClf = OneVsRestClassifier(KNeighborsClassifier())\n",
        "\n",
        "knnClf.fit(x_train, y_train)\n",
        "knnPredictions = knnClf.predict(x_test)\n",
        "knn = eval_scores('KNeighbors',  y_test, knnPredictions)\n",
        "print(knn)"
      ],
      "execution_count": 164,
      "outputs": [
        {
          "output_type": "stream",
          "text": [
            "/usr/local/lib/python3.7/dist-packages/sklearn/multiclass.py:75: UserWarning: Label not 24 is present in all training examples.\n",
            "  str(classes[c]))\n",
            "/usr/local/lib/python3.7/dist-packages/sklearn/multiclass.py:75: UserWarning: Label not 54 is present in all training examples.\n",
            "  str(classes[c]))\n",
            "/usr/local/lib/python3.7/dist-packages/sklearn/multiclass.py:75: UserWarning: Label not 59 is present in all training examples.\n",
            "  str(classes[c]))\n",
            "/usr/local/lib/python3.7/dist-packages/sklearn/multiclass.py:75: UserWarning: Label not 153 is present in all training examples.\n",
            "  str(classes[c]))\n",
            "/usr/local/lib/python3.7/dist-packages/sklearn/multiclass.py:75: UserWarning: Label not 166 is present in all training examples.\n",
            "  str(classes[c]))\n",
            "/usr/local/lib/python3.7/dist-packages/sklearn/multiclass.py:75: UserWarning: Label not 235 is present in all training examples.\n",
            "  str(classes[c]))\n",
            "/usr/local/lib/python3.7/dist-packages/sklearn/multiclass.py:75: UserWarning: Label not 240 is present in all training examples.\n",
            "  str(classes[c]))\n"
          ],
          "name": "stderr"
        },
        {
          "output_type": "stream",
          "text": [
            "{'Model Name': 'KNeighbors', 'Precision': 0.5517241379310345, 'Recall Scores': 0.06274509803921569, 'F1 Scores': 0.11267605633802817}\n"
          ],
          "name": "stdout"
        }
      ]
    },
    {
      "cell_type": "markdown",
      "metadata": {
        "id": "90Bqi72reyZV"
      },
      "source": [
        "`RandomForestClassifier` using MulitiOutputClassifier"
      ]
    },
    {
      "cell_type": "code",
      "metadata": {
        "colab": {
          "base_uri": "https://localhost:8080/",
          "height": 0
        },
        "id": "oO60t02CwVyp",
        "outputId": "7676e663-df0a-41fe-b306-77acca3e0989"
      },
      "source": [
        "from sklearn.ensemble import RandomForestClassifier\n",
        "from sklearn.multioutput import MultiOutputClassifier\n",
        "\n",
        "np.random.seed(42)\n",
        "rf_clf = MultiOutputClassifier(RandomForestClassifier(),  n_jobs=-1)\n",
        "rf_clf.fit(x_train.toarray(), y_train)\n",
        "rf_preds = rf_clf.predict(x_test.toarray())\n",
        "rf = eval_scores('RandomForest',  y_test, rf_preds)\n",
        "print(rf)"
      ],
      "execution_count": 162,
      "outputs": [
        {
          "output_type": "stream",
          "text": [
            "{'Model Name': 'RandomForest', 'Precision': 0.7647058823529411, 'Recall Scores': 0.050980392156862744, 'F1 Scores': 0.09558823529411764}\n"
          ],
          "name": "stdout"
        }
      ]
    },
    {
      "cell_type": "markdown",
      "metadata": {
        "id": "nUINe9wkfBol"
      },
      "source": [
        "`GaussianNB` Naive Bayes Classifier using ClassifierChain"
      ]
    },
    {
      "cell_type": "code",
      "metadata": {
        "colab": {
          "base_uri": "https://localhost:8080/",
          "height": 0
        },
        "id": "xs8w4JT33Sfa",
        "outputId": "ca55e07d-489c-4595-e747-b08c197a3ec9"
      },
      "source": [
        "from sklearn.multioutput import ClassifierChain\n",
        "from sklearn.naive_bayes import GaussianNB\n",
        "\n",
        "lg_rc = ClassifierChain(GaussianNB())\n",
        "lg_rc.fit(x_train.toarray(), y_train)\n",
        "lg_preds = lg_rc.predict(x_test.toarray())\n",
        "lg = eval_scores('Naive Bayes', y_test, lg_preds)\n",
        "print(lg)\n"
      ],
      "execution_count": 212,
      "outputs": [
        {
          "output_type": "stream",
          "text": [
            "{'Model Name': 'Naive Bayes', 'Precision': 0.2682926829268293, 'Recall Scores': 0.08627450980392157, 'F1 Scores': 0.13056379821958455}\n"
          ],
          "name": "stdout"
        }
      ]
    },
    {
      "cell_type": "markdown",
      "metadata": {
        "id": "u1WJMqF6fMHh"
      },
      "source": [
        "`LinearSCV` using OneVsRest"
      ]
    },
    {
      "cell_type": "code",
      "metadata": {
        "colab": {
          "base_uri": "https://localhost:8080/",
          "height": 0
        },
        "id": "NcJmcM7y1l2w",
        "outputId": "3a178800-ecc4-45ef-dfa0-382870db8bf7"
      },
      "source": [
        "from sklearn.svm import LinearSVC\n",
        "\n",
        "np.random.seed(42)\n",
        "svm_clf = OneVsRestClassifier(LinearSVC(), n_jobs=-1)\n",
        "svm_clf.fit(x_train, y_train)\n",
        "svm_preds = svm_clf.predict(x_test)\n",
        "svm = eval_scores('LinearSVC',  y_test, svm_preds)\n",
        "print(svm)"
      ],
      "execution_count": 165,
      "outputs": [
        {
          "output_type": "stream",
          "text": [
            "{'Model Name': 'LinearSVC', 'Precision': 0.6666666666666666, 'Recall Scores': 0.06274509803921569, 'F1 Scores': 0.11469534050179211}\n"
          ],
          "name": "stdout"
        }
      ]
    },
    {
      "cell_type": "markdown",
      "metadata": {
        "id": "jCmw8qCM17Xf"
      },
      "source": [
        "## Predicting the test data"
      ]
    },
    {
      "cell_type": "code",
      "metadata": {
        "colab": {
          "base_uri": "https://localhost:8080/",
          "height": 0
        },
        "id": "TIZMMoi92wu6",
        "outputId": "0c1f3927-1e8a-4f0c-fa7d-46d5d8da3707"
      },
      "source": [
        "#predictions on test data on random forest model\n",
        "rf_preds = rf_clf.predict(vectorized_test_data)\n",
        "predicted_cluster = []\n",
        "for x in rf_preds:\n",
        "  temp_list = []\n",
        "  for i in range(0, 250):\n",
        "    if int(x[i]):\n",
        "      temp_list.append(i)\n",
        "  predicted_cluster.append(temp_list)\n",
        "len(predicted_cluster)"
      ],
      "execution_count": 166,
      "outputs": [
        {
          "output_type": "execute_result",
          "data": {
            "text/plain": [
              "101"
            ]
          },
          "metadata": {
            "tags": []
          },
          "execution_count": 166
        }
      ]
    },
    {
      "cell_type": "code",
      "metadata": {
        "colab": {
          "base_uri": "https://localhost:8080/",
          "height": 0
        },
        "id": "a--ftR9sdrHV",
        "outputId": "501c7cc0-c3bb-46eb-e828-6802151e1cb1"
      },
      "source": [
        "rf_preds"
      ],
      "execution_count": 167,
      "outputs": [
        {
          "output_type": "execute_result",
          "data": {
            "text/plain": [
              "array([[0, 0, 0, ..., 0, 0, 0],\n",
              "       [0, 0, 0, ..., 0, 0, 0],\n",
              "       [0, 0, 0, ..., 0, 0, 0],\n",
              "       ...,\n",
              "       [0, 0, 0, ..., 0, 0, 0],\n",
              "       [0, 0, 0, ..., 0, 0, 0],\n",
              "       [0, 0, 0, ..., 0, 0, 0]])"
            ]
          },
          "metadata": {
            "tags": []
          },
          "execution_count": 167
        }
      ]
    },
    {
      "cell_type": "code",
      "metadata": {
        "colab": {
          "base_uri": "https://localhost:8080/",
          "height": 0
        },
        "id": "9LnHpoR45H_D",
        "outputId": "79ddb5cc-61e0-418d-e8cf-005549d1e283"
      },
      "source": [
        "predicted_labels = []\n",
        "for cluster_set in predicted_cluster:\n",
        "  temp_list = []\n",
        "  for cluster in cluster_set:\n",
        "    temp = list(tag_cluster[tag_cluster['cluster']==cluster].tag)\n",
        "    temp_list.append(temp)\n",
        "  predicted_labels.append(temp_list)\n",
        "\n",
        "predicted_labels = np.array(predicted_labels)\n",
        "len(predicted_labels)\n"
      ],
      "execution_count": 168,
      "outputs": [
        {
          "output_type": "stream",
          "text": [
            "/usr/local/lib/python3.7/dist-packages/ipykernel_launcher.py:9: VisibleDeprecationWarning: Creating an ndarray from ragged nested sequences (which is a list-or-tuple of lists-or-tuples-or ndarrays with different lengths or shapes) is deprecated. If you meant to do this, you must specify 'dtype=object' when creating the ndarray\n",
            "  if __name__ == '__main__':\n"
          ],
          "name": "stderr"
        },
        {
          "output_type": "execute_result",
          "data": {
            "text/plain": [
              "101"
            ]
          },
          "metadata": {
            "tags": []
          },
          "execution_count": 168
        }
      ]
    },
    {
      "cell_type": "markdown",
      "metadata": {
        "id": "JnbFuOeM3Cfr"
      },
      "source": [
        "## Creating data frame"
      ]
    },
    {
      "cell_type": "code",
      "metadata": {
        "colab": {
          "base_uri": "https://localhost:8080/",
          "height": 197
        },
        "id": "TLmlpjGm5Ahy",
        "outputId": "29969b64-3725-467b-f7b3-bb400c986fc7"
      },
      "source": [
        "test_data['filename']  = file_test_content\n",
        "test_data['Tags'] = predicted_labels\n",
        "test_data.head()"
      ],
      "execution_count": 176,
      "outputs": [
        {
          "output_type": "execute_result",
          "data": {
            "text/html": [
              "<div>\n",
              "<style scoped>\n",
              "    .dataframe tbody tr th:only-of-type {\n",
              "        vertical-align: middle;\n",
              "    }\n",
              "\n",
              "    .dataframe tbody tr th {\n",
              "        vertical-align: top;\n",
              "    }\n",
              "\n",
              "    .dataframe thead th {\n",
              "        text-align: right;\n",
              "    }\n",
              "</style>\n",
              "<table border=\"1\" class=\"dataframe\">\n",
              "  <thead>\n",
              "    <tr style=\"text-align: right;\">\n",
              "      <th></th>\n",
              "      <th>content</th>\n",
              "      <th>filename</th>\n",
              "      <th>Tags</th>\n",
              "    </tr>\n",
              "  </thead>\n",
              "  <tbody>\n",
              "    <tr>\n",
              "      <th>0</th>\n",
              "      <td>\\r\\n\\r\\nP. Venkatarama Reddi, J.\\r\\n\\r\\n1. The...</td>\n",
              "      <td>case_100_statement.txt</td>\n",
              "      <td>[[ Absconding,  Access,  Accounts,  Accusation...</td>\n",
              "    </tr>\n",
              "    <tr>\n",
              "      <th>1</th>\n",
              "      <td>\\r\\n\\r\\nG.B. Pattanaik, J.\\r\\n\\r\\n1. This batc...</td>\n",
              "      <td>case_101_statement.txt</td>\n",
              "      <td>[[ Absconding,  Access,  Accounts,  Accusation...</td>\n",
              "    </tr>\n",
              "    <tr>\n",
              "      <th>2</th>\n",
              "      <td>\\r\\n\\r\\n1. After hearing the Learned Counsel f...</td>\n",
              "      <td>case_102_statement.txt</td>\n",
              "      <td>[[ Absconding,  Access,  Accounts,  Accusation...</td>\n",
              "    </tr>\n",
              "    <tr>\n",
              "      <th>3</th>\n",
              "      <td>\\r\\n\\r\\n1. This appeal is directed against the...</td>\n",
              "      <td>case_103_statement.txt</td>\n",
              "      <td>[[ Absconding,  Access,  Accounts,  Accusation...</td>\n",
              "    </tr>\n",
              "    <tr>\n",
              "      <th>4</th>\n",
              "      <td>\\r\\n\\r\\n1. An issue raised by the appellants w...</td>\n",
              "      <td>case_104_statement.txt</td>\n",
              "      <td>[[ Absconding,  Access,  Accounts,  Accusation...</td>\n",
              "    </tr>\n",
              "  </tbody>\n",
              "</table>\n",
              "</div>"
            ],
            "text/plain": [
              "                                             content  ...                                               Tags\n",
              "0  \\r\\n\\r\\nP. Venkatarama Reddi, J.\\r\\n\\r\\n1. The...  ...  [[ Absconding,  Access,  Accounts,  Accusation...\n",
              "1  \\r\\n\\r\\nG.B. Pattanaik, J.\\r\\n\\r\\n1. This batc...  ...  [[ Absconding,  Access,  Accounts,  Accusation...\n",
              "2  \\r\\n\\r\\n1. After hearing the Learned Counsel f...  ...  [[ Absconding,  Access,  Accounts,  Accusation...\n",
              "3  \\r\\n\\r\\n1. This appeal is directed against the...  ...  [[ Absconding,  Access,  Accounts,  Accusation...\n",
              "4  \\r\\n\\r\\n1. An issue raised by the appellants w...  ...  [[ Absconding,  Access,  Accounts,  Accusation...\n",
              "\n",
              "[5 rows x 3 columns]"
            ]
          },
          "metadata": {
            "tags": []
          },
          "execution_count": 176
        }
      ]
    },
    {
      "cell_type": "markdown",
      "metadata": {
        "id": "pBwYqtCZfZCZ"
      },
      "source": [
        "## Exporting the dataset as csv"
      ]
    },
    {
      "cell_type": "code",
      "metadata": {
        "id": "Wk1BmKH4nIWw",
        "colab": {
          "base_uri": "https://localhost:8080/",
          "height": 406
        },
        "outputId": "c0a71a45-ec14-4028-a592-2cf597af7bd1"
      },
      "source": [
        "test_data.drop('content', axis = 1,inplace=True)\n",
        "test_data.to_csv('test_tags.csv') \n",
        "test_data"
      ],
      "execution_count": 185,
      "outputs": [
        {
          "output_type": "execute_result",
          "data": {
            "text/html": [
              "<div>\n",
              "<style scoped>\n",
              "    .dataframe tbody tr th:only-of-type {\n",
              "        vertical-align: middle;\n",
              "    }\n",
              "\n",
              "    .dataframe tbody tr th {\n",
              "        vertical-align: top;\n",
              "    }\n",
              "\n",
              "    .dataframe thead th {\n",
              "        text-align: right;\n",
              "    }\n",
              "</style>\n",
              "<table border=\"1\" class=\"dataframe\">\n",
              "  <thead>\n",
              "    <tr style=\"text-align: right;\">\n",
              "      <th></th>\n",
              "      <th>filename</th>\n",
              "      <th>Tags</th>\n",
              "    </tr>\n",
              "  </thead>\n",
              "  <tbody>\n",
              "    <tr>\n",
              "      <th>0</th>\n",
              "      <td>case_100_statement.txt</td>\n",
              "      <td>[[ Absconding,  Access,  Accounts,  Accusation...</td>\n",
              "    </tr>\n",
              "    <tr>\n",
              "      <th>1</th>\n",
              "      <td>case_101_statement.txt</td>\n",
              "      <td>[[ Absconding,  Access,  Accounts,  Accusation...</td>\n",
              "    </tr>\n",
              "    <tr>\n",
              "      <th>2</th>\n",
              "      <td>case_102_statement.txt</td>\n",
              "      <td>[[ Absconding,  Access,  Accounts,  Accusation...</td>\n",
              "    </tr>\n",
              "    <tr>\n",
              "      <th>3</th>\n",
              "      <td>case_103_statement.txt</td>\n",
              "      <td>[[ Absconding,  Access,  Accounts,  Accusation...</td>\n",
              "    </tr>\n",
              "    <tr>\n",
              "      <th>4</th>\n",
              "      <td>case_104_statement.txt</td>\n",
              "      <td>[[ Absconding,  Access,  Accounts,  Accusation...</td>\n",
              "    </tr>\n",
              "    <tr>\n",
              "      <th>...</th>\n",
              "      <td>...</td>\n",
              "      <td>...</td>\n",
              "    </tr>\n",
              "    <tr>\n",
              "      <th>96</th>\n",
              "      <td>case_196_statement.txt</td>\n",
              "      <td>[[ Absconding,  Access,  Accounts,  Accusation...</td>\n",
              "    </tr>\n",
              "    <tr>\n",
              "      <th>97</th>\n",
              "      <td>case_197_statement.txt</td>\n",
              "      <td>[[ Absconding,  Access,  Accounts,  Accusation...</td>\n",
              "    </tr>\n",
              "    <tr>\n",
              "      <th>98</th>\n",
              "      <td>case_198_statement.txt</td>\n",
              "      <td>[[ Absconding,  Access,  Accounts,  Accusation...</td>\n",
              "    </tr>\n",
              "    <tr>\n",
              "      <th>99</th>\n",
              "      <td>case_199_statement.txt</td>\n",
              "      <td>[[ Absconding,  Access,  Accounts,  Accusation...</td>\n",
              "    </tr>\n",
              "    <tr>\n",
              "      <th>100</th>\n",
              "      <td>case_200_statement.txt</td>\n",
              "      <td>[[ Absconding,  Access,  Accounts,  Accusation...</td>\n",
              "    </tr>\n",
              "  </tbody>\n",
              "</table>\n",
              "<p>101 rows × 2 columns</p>\n",
              "</div>"
            ],
            "text/plain": [
              "                   filename                                               Tags\n",
              "0    case_100_statement.txt  [[ Absconding,  Access,  Accounts,  Accusation...\n",
              "1    case_101_statement.txt  [[ Absconding,  Access,  Accounts,  Accusation...\n",
              "2    case_102_statement.txt  [[ Absconding,  Access,  Accounts,  Accusation...\n",
              "3    case_103_statement.txt  [[ Absconding,  Access,  Accounts,  Accusation...\n",
              "4    case_104_statement.txt  [[ Absconding,  Access,  Accounts,  Accusation...\n",
              "..                      ...                                                ...\n",
              "96   case_196_statement.txt  [[ Absconding,  Access,  Accounts,  Accusation...\n",
              "97   case_197_statement.txt  [[ Absconding,  Access,  Accounts,  Accusation...\n",
              "98   case_198_statement.txt  [[ Absconding,  Access,  Accounts,  Accusation...\n",
              "99   case_199_statement.txt  [[ Absconding,  Access,  Accounts,  Accusation...\n",
              "100  case_200_statement.txt  [[ Absconding,  Access,  Accounts,  Accusation...\n",
              "\n",
              "[101 rows x 2 columns]"
            ]
          },
          "metadata": {
            "tags": []
          },
          "execution_count": 185
        }
      ]
    },
    {
      "cell_type": "markdown",
      "metadata": {
        "id": "Ijw5Ju0dfhHI"
      },
      "source": [
        "## Evaluating and visualising different models"
      ]
    },
    {
      "cell_type": "code",
      "metadata": {
        "colab": {
          "base_uri": "https://localhost:8080/",
          "height": 167
        },
        "id": "CcfaDCvN79u7",
        "outputId": "54cb7056-c027-47c3-a38b-d93b82999f1e"
      },
      "source": [
        "df1 = pd.DataFrame(knn, index=[1])\n",
        "df2 = pd.DataFrame(rf, index=[1])\n",
        "df3 = pd.DataFrame(lg, index=[1])\n",
        "df4 = pd.DataFrame(svm, index=[1])\n",
        "df = pd.concat([df1, df2, df3, df4], ignore_index=True)\n",
        "df"
      ],
      "execution_count": 214,
      "outputs": [
        {
          "output_type": "execute_result",
          "data": {
            "text/html": [
              "<div>\n",
              "<style scoped>\n",
              "    .dataframe tbody tr th:only-of-type {\n",
              "        vertical-align: middle;\n",
              "    }\n",
              "\n",
              "    .dataframe tbody tr th {\n",
              "        vertical-align: top;\n",
              "    }\n",
              "\n",
              "    .dataframe thead th {\n",
              "        text-align: right;\n",
              "    }\n",
              "</style>\n",
              "<table border=\"1\" class=\"dataframe\">\n",
              "  <thead>\n",
              "    <tr style=\"text-align: right;\">\n",
              "      <th></th>\n",
              "      <th>Model Name</th>\n",
              "      <th>Precision</th>\n",
              "      <th>Recall Scores</th>\n",
              "      <th>F1 Scores</th>\n",
              "    </tr>\n",
              "  </thead>\n",
              "  <tbody>\n",
              "    <tr>\n",
              "      <th>0</th>\n",
              "      <td>KNeighbors</td>\n",
              "      <td>0.551724</td>\n",
              "      <td>0.062745</td>\n",
              "      <td>0.112676</td>\n",
              "    </tr>\n",
              "    <tr>\n",
              "      <th>1</th>\n",
              "      <td>RandomForest</td>\n",
              "      <td>0.764706</td>\n",
              "      <td>0.050980</td>\n",
              "      <td>0.095588</td>\n",
              "    </tr>\n",
              "    <tr>\n",
              "      <th>2</th>\n",
              "      <td>Naive Bayes</td>\n",
              "      <td>0.268293</td>\n",
              "      <td>0.086275</td>\n",
              "      <td>0.130564</td>\n",
              "    </tr>\n",
              "    <tr>\n",
              "      <th>3</th>\n",
              "      <td>LinearSVC</td>\n",
              "      <td>0.666667</td>\n",
              "      <td>0.062745</td>\n",
              "      <td>0.114695</td>\n",
              "    </tr>\n",
              "  </tbody>\n",
              "</table>\n",
              "</div>"
            ],
            "text/plain": [
              "     Model Name  Precision  Recall Scores  F1 Scores\n",
              "0    KNeighbors   0.551724       0.062745   0.112676\n",
              "1  RandomForest   0.764706       0.050980   0.095588\n",
              "2   Naive Bayes   0.268293       0.086275   0.130564\n",
              "3     LinearSVC   0.666667       0.062745   0.114695"
            ]
          },
          "metadata": {
            "tags": []
          },
          "execution_count": 214
        }
      ]
    },
    {
      "cell_type": "code",
      "metadata": {
        "colab": {
          "base_uri": "https://localhost:8080/",
          "height": 344
        },
        "id": "DWC3NJrP8xBn",
        "outputId": "d5c6ca62-e7f0-4462-b321-e00566c6cdb6"
      },
      "source": [
        "df.plot(kind='bar');"
      ],
      "execution_count": 223,
      "outputs": [
        {
          "output_type": "display_data",
          "data": {
            "image/png": "[encoded data removed]",
            "text/plain": [
              "<Figure size 576x396 with 1 Axes>"
            ]
          },
          "metadata": {
            "tags": []
          }
        }
      ]
    }
  ]
}